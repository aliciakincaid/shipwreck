{
 "cells": [
  {
   "cell_type": "markdown",
   "metadata": {},
   "source": [
    "# Auto-Categorize Ship Data"
   ]
  },
  {
   "cell_type": "code",
   "execution_count": 44,
   "metadata": {
    "collapsed": true
   },
   "outputs": [],
   "source": [
    "# import libraries\n",
    "import os\n",
    "from os import listdir\n",
    "import pprint\n",
    "from string import digits"
   ]
  },
  {
   "cell_type": "code",
   "execution_count": 12,
   "metadata": {
    "collapsed": false
   },
   "outputs": [
    {
     "name": "stdout",
     "output_type": "stream",
     "text": [
      "/Users/ali.ivy.kincaid/Desktop\n"
     ]
    }
   ],
   "source": [
    "print (os.getcwd())"
   ]
  },
  {
   "cell_type": "code",
   "execution_count": 11,
   "metadata": {
    "collapsed": false
   },
   "outputs": [],
   "source": [
    "os.chdir('/Users/ali.ivy.kincaid/Desktop')"
   ]
  },
  {
   "cell_type": "markdown",
   "metadata": {},
   "source": [
    "Print filenames of all the images"
   ]
  },
  {
   "cell_type": "code",
   "execution_count": null,
   "metadata": {
    "collapsed": false
   },
   "outputs": [],
   "source": [
    "for root, dirs, files in os.walk(\"Ship_Data\"):\n",
    "    for filenames in files:\n",
    "        if filenames != \".DS_Store\":\n",
    "            print(filenames)"
   ]
  },
  {
   "cell_type": "markdown",
   "metadata": {},
   "source": [
    "Define each image's parent folder"
   ]
  },
  {
   "cell_type": "code",
   "execution_count": null,
   "metadata": {
    "collapsed": false
   },
   "outputs": [],
   "source": [
    "extensions = []\n",
    "cleaned_file_names = []\n",
    "parent_folder_names = []\n",
    "whole_filepath = []\n",
    "\n",
    "for root, dirs, files in os.walk(\"Ship_Data\"):\n",
    "    for filename in files:\n",
    "        if filename != \".DS_Store\":\n",
    "            cleaned_file_names.append(filename.lower())\n",
    "            filepath = os.path.abspath(os.path.join(root, filename))\n",
    "            whole_filepath.append(filepath)\n",
    "            parent_folder = os.path.dirname(filepath).split('/')[6:]\n",
    "            parent_folder = (' / ').join(parent_folder)\n",
    "            parent_folder_names.append(parent_folder)\n",
    "            \n",
    "for each in parent_folder_names:\n",
    "    print(each)"
   ]
  },
  {
   "cell_type": "markdown",
   "metadata": {},
   "source": [
    "Define artist name for each image"
   ]
  },
  {
   "cell_type": "code",
   "execution_count": null,
   "metadata": {
    "collapsed": false
   },
   "outputs": [],
   "source": [
    "extensions = []\n",
    "cleaned_file_names = []\n",
    "parent_folder_names = []\n",
    "whole_filepath = []\n",
    "artists = []\n",
    "\n",
    "for root, dirs, files in os.walk(\"Ship_Data\"):\n",
    "    for filename in files:\n",
    "        if filename != \".DS_Store\":\n",
    "            cleaned_file_names.append(filename.lower())\n",
    "            filepath = os.path.abspath(os.path.join(root, filename))\n",
    "            whole_filepath.append(filepath)\n",
    "            parent_folder = os.path.dirname(filepath).split('/')[6:]\n",
    "            parent_folder = (' / ').join(parent_folder)\n",
    "            parent_folder_names.append(parent_folder)\n",
    "            remove_digits = str.maketrans('', '', digits)\n",
    "            artist = parent_folder.translate(remove_digits)\n",
    "            artist = artist.lower()\n",
    "\n",
    "            no = ['/', 'c.', 'images', '\\\\', 'without', 'painting', 'azulujos', 'tecto', 'kh-', 'sala', 'es-s', 'das', 'batalhas', 'saco', 'quadros', 'por', 'id', 'museu', 'da', 'cidade', 'ships', 'paintings', 'la', 'batalla', 'las', 'dunos', 'nioporte', 'facsimile', 'fichas', 'publication', 'es-','es--', 'es', '-', '--', 'de', 'de-', 'de--', 'fr', 'fr-', 'fr--', 'pt', 'pt-', 'pt--', 'hr', 'hr-', 'hr--', 'it', 'it-', 'it--', 'nl', 'nl-', 'nl--', 'be', 'be-', 'be--', 'dn', 'dn-', 'dn--', 'jp', 'jp-', 'jp--']\n",
    "             \n",
    "            removed = []\n",
    "            for each in artist.split(' '):\n",
    "                if each not in no:\n",
    "                    removed.append(each)\n",
    "                    \n",
    "            removed = (' ').join(removed)\n",
    "            removed = removed.replace(\"harbor views _ shipyards braun and hogenberg incomplete\",\"braun and hogenberg\")\n",
    "            removed = removed.replace(\"pintoricchio penelope and trhe suitors\",\"pintoricchio penelope\")\n",
    "            removed = removed.replace(\"harbor views _ shipyards\",\"unknown\")\n",
    "            removed = removed.replace(\"oliveira _ars nautica_\",\"oliveira\")\n",
    "            removed = removed.replace(\"braun and hogenberg to finish and organize\",\"braun and hogenberg\")\n",
    "            removed = removed.replace(\"bartolommeo dalli sonetti_s isolario\",\"bartolommeo dalli sonetti\")\n",
    "            removed = removed.replace(\"ex-votos naples\",\"unknown\")\n",
    "            removed = removed.replace(\"oliveira _livro fabrica naus_\",\"oliveira\")\n",
    "            removed = removed.replace(\"biombos namban southern_barbarian\",\"biombos namban\")\n",
    "            removed = removed.replace(\"the legend of the hermit anthony\",\"unknown\")\n",
    "            removed = removed.replace(\"unkown shipyards\",\"unknown\")\n",
    "            removed = removed.replace(\"shipyards\",\"unknown\")\n",
    "            removed = removed.replace(\"replica model\",\"unknown\")\n",
    "            removed = removed.replace(\"galeon museo naval\",\"unknown\")\n",
    "            removed = removed.replace(\"atlas catalan abraham cresques\", \"abraham cresques\")\n",
    "            removed = removed.replace(\"simao miranda view of lisbon\",\"simao miranda\")\n",
    "            removed = removed.replace(\"album colbert\",\"colbert\")\n",
    "            removed = removed.replace(\"victoria and a museum\",\"victoria and albert\")\n",
    "            removed = removed.replace(\"lubeck seal\",\"lubeck\")\n",
    "            removed = removed.replace(\"galeon museo naval\",\"unknown\")\n",
    "            removed = removed.replace(\"saint-aubin neuville church\",\"saint-aubin neuville\")\n",
    "            removed = removed.replace(\"tower of pisa\",\"unknown\")\n",
    "            removed = removed.replace(\"melchior lorke view of istanbul\",\"melchior lorke\")\n",
    "            removed = removed.replace(\"memoria armadas\",\"unknown\")\n",
    "            \n",
    "            artists.append(removed)\n",
    "\n",
    "for each in artists:\n",
    "    print(each)"
   ]
  },
  {
   "cell_type": "markdown",
   "metadata": {},
   "source": [
    "Look at artist names to isolate unnecessary characters"
   ]
  },
  {
   "cell_type": "code",
   "execution_count": null,
   "metadata": {
    "collapsed": false
   },
   "outputs": [],
   "source": [
    "for each in artist.split(' '):\n",
    "    if each not in no:\n",
    "        if each not in artists:\n",
    "            artists.append(each)\n",
    "            test2 = list(set(artists))\n",
    "\n",
    "for each in test2:\n",
    "    print(each)"
   ]
  }
 ],
 "metadata": {
  "kernelspec": {
   "display_name": "Python 3",
   "language": "python",
   "name": "python3"
  },
  "language_info": {
   "codemirror_mode": {
    "name": "ipython",
    "version": 3
   },
   "file_extension": ".py",
   "mimetype": "text/x-python",
   "name": "python",
   "nbconvert_exporter": "python",
   "pygments_lexer": "ipython3",
   "version": "3.6.0"
  }
 },
 "nbformat": 4,
 "nbformat_minor": 2
}
