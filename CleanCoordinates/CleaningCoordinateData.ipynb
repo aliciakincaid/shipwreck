{
 "cells": [
  {
   "cell_type": "markdown",
   "metadata": {},
   "source": [
    "## Cleaning Coordinate Data"
   ]
  },
  {
   "cell_type": "markdown",
   "metadata": {},
   "source": [
    "This notebook will take in the name of a csv file, extract the Site Names, Latitude, and Longitude. It will then clean the data...\n",
    "\n",
    "#### Cleaning Site Names:\n",
    "* Replaces any commas with a '/' so as to not add an extra element to our csv file\n",
    "\n",
    "#### Cleaning Coordinates\n",
    "* Converts any coordinates in degree format to decimal format\n",
    "* Removes any special characterse\n",
    "* In the event there is more than one coordinate in a latitude/longitude cell, it will randomly select one as the official coordinate per Dr. Castro's instructions\n",
    "\n",
    "After all the data has been cleaned, it will output a new csv file formatted for use in Google Maps\n"
   ]
  },
  {
   "cell_type": "markdown",
   "metadata": {},
   "source": [
    "### Imports\n",
    "\n",
    "Pandas allows us to read our csv files\n",
    "\n",
    "Re allows us to make regex functions. In this notebook, we use the regex functions to remove all special characters (apart from '.' and '-') from our coordinates"
   ]
  },
  {
   "cell_type": "code",
   "execution_count": null,
   "metadata": {},
   "outputs": [],
   "source": [
    "import pandas as pd\n",
    "import re"
   ]
  },
  {
   "cell_type": "markdown",
   "metadata": {},
   "source": [
    "### Extracting from csv file\n",
    "\n",
    "This function will take in the name of a file in csv format, and put the data in the \"Site\" \"Latitude\" and \"Longitude\" columns into lists...\n",
    "\n",
    "#### Cleaning the lists\n",
    "* We will need to delete every row that is missing coordinate data. This can either be from the cells being empty, or holding fake coordinates as placeholders\n",
    "    * Latitudes only range from: -90 - 90\n",
    "    * Longitudes only range from: -180 - 180"
   ]
  },
  {
   "cell_type": "code",
   "execution_count": 19,
   "metadata": {},
   "outputs": [],
   "source": [
    "def is_legit_latitude(latitude):\n",
    "    if -90 <= latitude <= 90:\n",
    "        return true\n",
    "    return false\n",
    "\n",
    "def is_legit_longitude(longitude):\n",
    "    if -180 <= longitude <= 180:\n",
    "        return true\n",
    "    return false"
   ]
  },
  {
   "cell_type": "markdown",
   "metadata": {},
   "source": [
    "Okay, thought I was going to be able to do this a certain way, but there are too many variations in column name. SO, the \"main\" area will open the file.. then the extract function will take in the file and a desired column name... In C++ there is a way to have a function take in x amount of elements for sure, and then a couple others maybe. Will have to see if this is the case for circumstances where there are multiple longitude and latitude columns\n",
    "\n",
    "We also can't check if these coordinates are valid yet... we should just look for empties and then go from there :/"
   ]
  },
  {
   "cell_type": "code",
   "execution_count": 34,
   "metadata": {},
   "outputs": [
    {
     "name": "stdout",
     "output_type": "stream",
     "text": [
      "[0, 1, 2, 3, 4, 5, 6, 7, 8, 9, 10, 11, 12, 13, 14, 15, 16, 17, 18, 19, 20, 21, 22, 23, 24, 25, 26, 27, 28, 29, 30, 31, 32, 33, 34, 35, 36, 37, 38, 39, 40, 41, 42, 43, 44, 45, 46, 47, 48, 49, 50, 51, 52, 53, 54, 55, 56, 57, 58, 59, 60, 61, 62, 63, 64, 65, 66, 67, 68, 69, 70, 71, 72, 73, 74, 75, 76, 77, 78, 79, 80, 81, 82, 83, 84, 85, 86, 87, 88, 89, 90, 91, 92, 93, 94, 95, 96, 97, 98, 99, 100, 101, 102, 103, 104, 105, 106, 107, 108, 109, 110, 111, 112, 113, 114, 115, 116, 117, 118, 119, 120, 121, 122, 123, 124, 125, 126, 127, 128, 129, 130, 131, 132, 133, 134, 135, 136, 137, 138, 139, 140, 141, 142, 143, 144, 145, 146, 147, 148, 149, 150, 151, 152, 153, 154, 155, 156, 157, 158, 159, 160, 161, 162, 163, 164, 165, 166, 167, 168, 169, 170, 171, 172, 173, 174, 175, 176, 177, 178, 179, 180, 181, 182, 183, 184, 185, 186, 187, 188, 189, 190, 191, 192, 193, 194, 195, 196, 197, 198, 199, 200, 201, 202, 203, 204, 205, 206, 207, 208, 209, 210, 211, 212, 213, 214, 215, 216, 217, 218, 219, 220, 221, 222, 223, 224, 225, 226, 227, 228, 229, 230, 231, 232, 233, 234, 235, 236, 237, 238, 239, 240, 241, 242, 243, 244, 245, 246, 247, 248, 249, 250, 251, 252, 253, 254, 255, 256, 257, 258, 259, 260, 261, 262, 263, 264, 265, 266, 267, 268, 269, 270, 271, 272, 273, 274, 275, 276, 277, 278, 279, 280, 281, 282, 283, 284, 285, 286, 287, 288, 289, 290, 291, 292, 293, 294, 295, 296, 297, 298, 299, 300, 301, 302, 303, 304, 305, 306, 307, 308, 309, 310, 311, 312, 313, 314, 315, 316, 317, 318, 319, 320, 321, 322, 323, 324, 325, 326, 327, 328, 329, 330, 331, 332, 333, 334, 335, 336, 337, 338, 339, 340, 341, 342, 343, 344, 345, 346, 347, 348, 349, 350, 351, 352, 353, 354, 355, 356, 357, 358, 359, 360, 361, 362, 363, 364, 365, 366, 367, 368, 369, 370, 371, 372, 373, 374, 375, 376, 377, 378, 379, 380, 381, 382, 383, 384, 385, 386, 387, 388, 389, 390, 391, 392, 393, 394, 395, 396, 397, 398, 399, 400, 401, 402, 403, 404, 405, 406, 407, 408, 409, 410, 411, 412, 413, 414, 415, 416, 417, 418, 419, 420, 421, 422, 423, 424, 425, 426, 427, 428, 429, 430, 431, 432, 433, 434, 435, 436, 437, 438, 439, 440, 441, 442, 443, 444, 445, 446, 447, 448, 449, 450, 451, 452, 453, 454, 455, 456, 457, 458, 459, 460, 461, 462, 463, 464, 465, 466, 467, 468, 469, 470, 471, 472, 473, 474, 475, 476, 477, 478, 479, 480, 481, 482, 483, 484, 485, 486, 487, 488, 489, 490, 491, 492, 493, 494, 495, 496, 497, 498, 499, 500, 501, 502, 503, 504, 505, 506, 507, 508, 509, 510, 511, 512, 513, 514, 515, 516, 517, 518, 519, 520, 521, 522, 523, 524, 525, 526, 527, 528, 529, 530, 531, 532, 533, 534, 535, 536, 537, 538, 539, 540, 541, 542, 543, 544, 545, 546, 547, 548, 549, 550, 551, 552, 553, 554, 555, 556, 557, 558, 559, 560, 561, 562, 563, 564, 565, 566, 567, 568, 569, 570, 571, 572, 573, 574, 575, 576, 577, 578, 579, 580, 581, 582, 583, 584, 585, 586, 587, 588, 589, 590, 591, 592, 593, 594, 595, 596, 597, 598, 599, 600, 601, 602, 603, 604, 605, 606, 607, 608, 609, 610, 611, 612, 613, 614, 615, 616, 617, 618, 619, 620, 621, 622, 623, 624, 625, 626, 627, 628, 629, 630, 631, 632, 633, 634, 635, 636, 637, 638, 639, 640, 641, 642, 643, 644, 645, 646, 647, 648, 649, 650, 651, 652, 653, 654, 655, 656, 657, 658, 659, 660, 661, 662, 663, 664, 665, 666, 667, 668, 669, 670, 671, 672, 673, 674, 675, 676, 677, 678, 679, 680, 681, 682, 683, 684, 685, 686, 687, 688, 689, 690, 691, 692, 693, 694, 695, 696, 697, 698, 699, 700, 701, 702, 703, 704, 705, 706, 707, 708, 709, 710, 711, 712, 713, 714, 715, 716, 717, 718, 719, 720, 721, 722, 723, 724, 725, 726, 727, 728, 729, 730, 731]\n"
     ]
    }
   ],
   "source": [
    "df = pd.read_csv('EarlyModernPreClean.csv')\n",
    "site_list = df['Site'].tolist()\n",
    "\n",
    "latitude_list = extract_from_csv('Latitude', site_list_size)"
   ]
  },
  {
   "cell_type": "code",
   "execution_count": 33,
   "metadata": {},
   "outputs": [],
   "source": [
    "#for optional inputs, set equal to none\n",
    "\n",
    "def merge_two_columns(column1, column2):\n",
    "    \n",
    "    return merged_list\n",
    "    \n",
    "        \n",
    "def extract_from_csv(site_column, latitude_column1, longitude_column1, latitude_column2 = None, longitude_column2 = None):\n",
    "    \n",
    "    if latitude_column2:\n",
    "        latitude1_list = df[latitude_column1].tolist()\n",
    "        latitude2_list = df[latitude_column2].tolist()\n",
    "        latitude_list = merge_two_columns(latitude1_list, latitude2_list)\n",
    "    else:\n",
    "        latitude_list = df[latitude_column1].tolist()\n",
    "    \n",
    "    if longitude_column2:\n",
    "        longitude1_list = df[longitude_column1].tolist()\n",
    "        longitude2_list = df[longitude_column2].tolist()\n",
    "        longitude_list = merge_two_columns(longitude1_list, longitude2_list)\n",
    "    else:\n",
    "        longitude_list = df[longitude_column2].tolist()\n",
    "    \n",
    "    position_of_valid_coordinates = []\n",
    "    position_counter = 0\n",
    "    \n",
    "    for site in site_list:\n",
    "        if latitude_list[position_counter] and longitude_list[position_counter]:\n",
    "            position_of_valid_coordinates.append(position_counter)\n",
    "        position_counter += 1\n",
    "        "
   ]
  },
  {
   "cell_type": "code",
   "execution_count": null,
   "metadata": {},
   "outputs": [],
   "source": []
  },
  {
   "cell_type": "markdown",
   "metadata": {},
   "source": [
    "This takes our rows for latitude and longitude and turns them into a list of strings. Now we can start accessing the characters"
   ]
  },
  {
   "cell_type": "markdown",
   "metadata": {},
   "source": [
    "### Code Segment Two"
   ]
  },
  {
   "cell_type": "markdown",
   "metadata": {},
   "source": [
    "Now, we need to look at the list of strings and remove the special characters... I think in the event there is more than one potential coordinate listed, we can't assume the characters separating the two will be the same for every instance so it will be best to remove them and then check if there are any numbers separated by spaces at the end\n",
    "\n",
    "OKAY, there are some instances where the coordinates are NOT in decimal format so we've got to figure out how to work with that -_-"
   ]
  },
  {
   "cell_type": "markdown",
   "metadata": {},
   "source": [
    "#### Changing to Decimal Format"
   ]
  },
  {
   "cell_type": "markdown",
   "metadata": {},
   "source": [
    "Alright, we're going to need to be able to isolate the coordinate in the incorrect data format, hold it's position in the spreadsheet, alter it, then place it back in position"
   ]
  },
  {
   "cell_type": "code",
   "execution_count": 5,
   "metadata": {},
   "outputs": [],
   "source": [
    "latToConvert = []\n",
    "longToConvert = []\n",
    "\n",
    "latCounter = []\n",
    "longCounter = []\n",
    "\n",
    "counter = 0\n",
    "for latitude in latList:\n",
    "    if \"N\" in latitude or \"S\" in latitude:\n",
    "        latToConvert.append(latitude)\n",
    "        latCounter.append(counter)\n",
    "    counter += 1\n",
    "    \n",
    "counter = 0\n",
    "for longitude in longList:\n",
    "    if \"E\" in longitude or \"W\" in longitude:\n",
    "        longToConvert.append(longitude)\n",
    "        longCounter.append(counter)\n",
    "    counter += 1"
   ]
  },
  {
   "cell_type": "code",
   "execution_count": 6,
   "metadata": {},
   "outputs": [
    {
     "name": "stdout",
     "output_type": "stream",
     "text": [
      "[' 38°31\\'23.84\"N', ' 21° 8\\'47.06\"N']\n",
      "[176, 379]\n",
      "[' 28°38\\'6.89\"W', ' 75°49\\'23.25\"W']\n",
      "[176, 379]\n"
     ]
    }
   ],
   "source": [
    "print(latToConvert)\n",
    "print(latCounter)\n",
    "\n",
    "print(longToConvert)\n",
    "print(longCounter)"
   ]
  },
  {
   "cell_type": "markdown",
   "metadata": {},
   "source": [
    "Alright! Now we've got our list of coordinates in the wrong data format... now all we need to do is convert\n",
    "\n",
    "In this experiment list, some of the characters separating the degrees/minutes/seconds are incorrect.. so I think it'll be best to replace special characters with spaces, change all mutlispaces to one space, and do the calculations based on that :)"
   ]
  },
  {
   "cell_type": "code",
   "execution_count": 7,
   "metadata": {},
   "outputs": [
    {
     "name": "stdout",
     "output_type": "stream",
     "text": [
      "[38.523288888888885, 21.146405555555557]\n",
      "[-28.635247222222223, -75.82312499999999]\n"
     ]
    }
   ],
   "source": [
    "convertedLat = []\n",
    "convertedLong = []\n",
    "\n",
    "def converter(coordinate):\n",
    "    temp = []\n",
    "    data = re.sub(r\"[^0-9.-]+\", ' ', coordinate)\n",
    "    for c in data.split():\n",
    "        try:\n",
    "            temp.append(float(c))\n",
    "        except ValueError:\n",
    "            pass\n",
    "    input = temp[0] + (temp[1]/60) + (temp[2]/3600)\n",
    "    return input\n",
    "\n",
    "for latitude in latToConvert:\n",
    "    if \"N\" in latitude:\n",
    "        input = converter(coordinate = latitude)\n",
    "        convertedLat.append(input)\n",
    "    if \"S\" in latitude:\n",
    "        input = -1 * converter(coordinate = latitude)\n",
    "        convertedLat.append(input)\n",
    "print(convertedLat)\n",
    "\n",
    "for longitude in longToConvert:\n",
    "    if \"E\" in longitude:\n",
    "        input = converter(coordinate = longitude)\n",
    "        convertedLong.append(input)\n",
    "    if \"W\" in longitude:\n",
    "        input = -1 * converter(coordinate = longitude)\n",
    "        convertedLong.append(input)\n",
    "print(convertedLong)"
   ]
  },
  {
   "cell_type": "markdown",
   "metadata": {},
   "source": [
    "Now that we habve the converted coordinate points it is time to use them to replace the main list..."
   ]
  },
  {
   "cell_type": "code",
   "execution_count": 8,
   "metadata": {},
   "outputs": [],
   "source": [
    "counter = 0\n",
    "for position in latCounter:\n",
    "    latList[position] = str(convertedLat[counter])\n",
    "    counter += 1\n",
    "\n",
    "counter = 0\n",
    "for position in longCounter:\n",
    "    longList[position] = str(convertedLong[counter])\n",
    "    counter += 1\n"
   ]
  },
  {
   "cell_type": "markdown",
   "metadata": {},
   "source": [
    "#### Deleting extra characters"
   ]
  },
  {
   "cell_type": "code",
   "execution_count": 16,
   "metadata": {},
   "outputs": [],
   "source": [
    "cleanLatList = []\n",
    "cleanLongList = []\n",
    "cleanSiteList = []\n",
    "\n",
    "for latitude in latList:\n",
    "    cleanLatList.append(re.sub(r\"[^0-9.-]+\", ' ', latitude))\n",
    "    \n",
    "for longitude in longList:\n",
    "    cleanLongList.append(re.sub(r\"[^0-9.-]+\", ' ', longitude))\n",
    "\n",
    "for site in siteList:\n",
    "    cleanSiteList.append(site.replace(\",\", \" /\"))"
   ]
  },
  {
   "cell_type": "markdown",
   "metadata": {},
   "source": [
    "The print statements below verify our converted coordinates are in the master list"
   ]
  },
  {
   "cell_type": "code",
   "execution_count": 17,
   "metadata": {},
   "outputs": [
    {
     "name": "stdout",
     "output_type": "stream",
     "text": [
      "-28.635247222222223\n",
      "-75.82312499999999\n",
      "38.523288888888885\n",
      "21.146405555555557\n",
      "Nossa Senhora da Luz\n",
      "Guardalavaca\n",
      "Nuestra Senora del Carmen / Santo Antonio de Padua y las Animas\n"
     ]
    }
   ],
   "source": [
    "print(cleanLongList[176])\n",
    "print(cleanLongList[379])\n",
    "\n",
    "print(cleanLatList[176])\n",
    "print(cleanLatList[379])\n",
    "\n",
    "print(cleanSiteList[176])\n",
    "print(cleanSiteList[379])\n",
    "print(cleanSiteList[334])"
   ]
  },
  {
   "cell_type": "markdown",
   "metadata": {},
   "source": [
    "### Okey-dokey, I was hoping we could just look at the data point with "
   ]
  },
  {
   "cell_type": "code",
   "execution_count": 11,
   "metadata": {},
   "outputs": [
    {
     "name": "stdout",
     "output_type": "stream",
     "text": [
      "18.416667 18.373354\n"
     ]
    }
   ],
   "source": [
    "for point in cleanLongList:\n",
    "    if \" \" in point.strip():\n",
    "        print(point)"
   ]
  },
  {
   "cell_type": "markdown",
   "metadata": {},
   "source": [
    "### Code Segment Three"
   ]
  },
  {
   "cell_type": "markdown",
   "metadata": {},
   "source": [
    "Alright, here we are going to make a brand new csv file with all our data points ready to be uploaded into a map :)"
   ]
  },
  {
   "cell_type": "code",
   "execution_count": 12,
   "metadata": {},
   "outputs": [],
   "source": [
    "import csv\n",
    "\n",
    "counter = 0\n",
    "with open('EarlyModernPostClean.csv', 'w', newline='') as csvfile:\n",
    "    filewriter = csv.writer(csvfile, delimiter=',',quotechar='|', quoting=csv.QUOTE_MINIMAL)\n",
    "    filewriter.writerow(['Site', 'Latitude', 'Longitude'])\n",
    "    for site in cleanSiteList:\n",
    "        filewriter.writerow([cleanSiteList[counter], cleanLatList[counter], cleanLongList[counter]])\n",
    "        counter += 1\n",
    "        "
   ]
  },
  {
   "cell_type": "code",
   "execution_count": 13,
   "metadata": {},
   "outputs": [
    {
     "data": {
      "text/html": [
       "<div>\n",
       "<style scoped>\n",
       "    .dataframe tbody tr th:only-of-type {\n",
       "        vertical-align: middle;\n",
       "    }\n",
       "\n",
       "    .dataframe tbody tr th {\n",
       "        vertical-align: top;\n",
       "    }\n",
       "\n",
       "    .dataframe thead th {\n",
       "        text-align: right;\n",
       "    }\n",
       "</style>\n",
       "<table border=\"1\" class=\"dataframe\">\n",
       "  <thead>\n",
       "    <tr style=\"text-align: right;\">\n",
       "      <th></th>\n",
       "      <th>Site</th>\n",
       "      <th>Latitude</th>\n",
       "      <th>Longitude</th>\n",
       "    </tr>\n",
       "  </thead>\n",
       "  <tbody>\n",
       "    <tr>\n",
       "      <th>0</th>\n",
       "      <td>Boccalama B</td>\n",
       "      <td>45.388939</td>\n",
       "      <td>12.280872</td>\n",
       "    </tr>\n",
       "    <tr>\n",
       "      <th>1</th>\n",
       "      <td>Boccalama A</td>\n",
       "      <td>45.388639</td>\n",
       "      <td>12.280894</td>\n",
       "    </tr>\n",
       "    <tr>\n",
       "      <th>2</th>\n",
       "      <td>Contarina 1</td>\n",
       "      <td>45.024497</td>\n",
       "      <td>12.217022</td>\n",
       "    </tr>\n",
       "    <tr>\n",
       "      <th>3</th>\n",
       "      <td>Culip VI</td>\n",
       "      <td>42.321567</td>\n",
       "      <td>3.310431</td>\n",
       "    </tr>\n",
       "    <tr>\n",
       "      <th>4</th>\n",
       "      <td>Les Sorres X</td>\n",
       "      <td>41.277389</td>\n",
       "      <td>1.993044</td>\n",
       "    </tr>\n",
       "  </tbody>\n",
       "</table>\n",
       "</div>"
      ],
      "text/plain": [
       "           Site   Latitude  Longitude\n",
       "0   Boccalama B  45.388939  12.280872\n",
       "1   Boccalama A  45.388639  12.280894\n",
       "2   Contarina 1  45.024497  12.217022\n",
       "3      Culip VI  42.321567   3.310431\n",
       "4  Les Sorres X  41.277389   1.993044"
      ]
     },
     "execution_count": 13,
     "metadata": {},
     "output_type": "execute_result"
    }
   ],
   "source": [
    "df2 = pd.read_csv('EarlyModernPostClean.csv')\n",
    "\n",
    "df2.head()"
   ]
  },
  {
   "cell_type": "code",
   "execution_count": null,
   "metadata": {},
   "outputs": [],
   "source": []
  }
 ],
 "metadata": {
  "kernelspec": {
   "display_name": "Python 3",
   "language": "python",
   "name": "python3"
  },
  "language_info": {
   "codemirror_mode": {
    "name": "ipython",
    "version": 3
   },
   "file_extension": ".py",
   "mimetype": "text/x-python",
   "name": "python",
   "nbconvert_exporter": "python",
   "pygments_lexer": "ipython3",
   "version": "3.7.3"
  }
 },
 "nbformat": 4,
 "nbformat_minor": 2
}
