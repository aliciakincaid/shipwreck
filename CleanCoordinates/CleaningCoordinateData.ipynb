{
 "cells": [
  {
   "cell_type": "markdown",
   "metadata": {},
   "source": [
    "## Cleaning Coordinate Data"
   ]
  },
  {
   "cell_type": "markdown",
   "metadata": {},
   "source": [
    "This notebook will take in the name of a csv file, extract the Site Names, Latitude, and Longitude. It will then clean the data...\n",
    "\n",
    "# IMPORTANT: Before converting to csv, replace all commas with a slash\n",
    "\n",
    "#### Cleaning Site Names:\n",
    "* Replaces any commas with a '/' so as to not add an extra element to our csv file\n",
    "\n",
    "#### Cleaning Coordinates\n",
    "* Converts any coordinates in degree format to decimal format\n",
    "* Removes any special characterse\n",
    "* In the event there is more than one coordinate in a latitude/longitude cell, it will randomly select one as the official coordinate per Dr. Castro's instructions\n",
    "\n",
    "After all the data has been cleaned, it will output a new csv file formatted for use in Google Maps\n"
   ]
  },
  {
   "cell_type": "markdown",
   "metadata": {},
   "source": [
    "### Imports\n",
    "\n",
    "Pandas allows us to read our csv files\n",
    "\n",
    "Re allows us to make regex functions. In this notebook, we use the regex functions to remove all special characters (apart from '.' and '-') from our coordinates"
   ]
  },
  {
   "cell_type": "code",
   "execution_count": 4,
   "metadata": {},
   "outputs": [],
   "source": [
    "import pandas as pd\n",
    "import re"
   ]
  },
  {
   "cell_type": "markdown",
   "metadata": {},
   "source": [
    "### Extracting from csv file\n",
    "\n",
    "This function will take in the name of a file in csv format, and put the data in the \"Site\" \"Latitude\" and \"Longitude\" columns into lists...\n",
    "\n",
    "#### Cleaning the lists\n",
    "* We will need to delete every row that is missing coordinate data. This can either be from the cells being empty, or holding fake coordinates as placeholders (not in the constraints of coordinate range)\n",
    "    * Latitudes only range from: -90 to 90\n",
    "    * Longitudes only range from: -180 to 180"
   ]
  },
  {
   "cell_type": "markdown",
   "metadata": {},
   "source": [
    "## Defining Helper Functions"
   ]
  },
  {
   "cell_type": "code",
   "execution_count": 5,
   "metadata": {},
   "outputs": [],
   "source": [
    "#See if the coordinates fall within the acceptable range\n",
    "def is_legit_latitude(latitude):\n",
    "    if -90 <= latitude <= 90:\n",
    "        return true\n",
    "    return false\n",
    "\n",
    "def is_legit_longitude(longitude):\n",
    "    if -180 <= longitude <= 180:\n",
    "        return true\n",
    "    return false\n",
    "\n",
    "\n",
    "#Merging columns in the event there is more than one latitude of longitude column\n",
    "def merge_two_columns(site_column, column1, column2):\n",
    "    merged_list = []\n",
    "    position_counter = 0\n",
    "    \n",
    "    for site in site_column:\n",
    "        if column1[position_counter]:\n",
    "            merged_list.append(column1[position_counter])\n",
    "        elif column2[position_counter]:\n",
    "            merged_list.append(column2[position_counter])\n",
    "        else:\n",
    "            merged_list.append(\" \")\n",
    "        position_counter += 1\n",
    "    \n",
    "    print(merged_list)\n",
    "    return merged_list\n",
    "\n",
    "\n",
    "#Increases the length of a coordinate list in the event the list of names is longer\n",
    "def extend_columns(original_column, desired_length):\n",
    "    original_column.extend([\" \"] * desired_length)\n",
    "    extended_column = original_column[:desired_length]\n",
    "    return extended_column\n",
    "\n",
    "\n",
    "def preamble_to_merging(site_column, site_length, column1, column2):\n",
    "    #creates lists for the two different columns\n",
    "    column1_list = df[column1].tolist()\n",
    "    column2_list = df[column2].tolist()\n",
    "                            \n",
    "    #determine the length of each list... \n",
    "    column1_length = len(column1_list)\n",
    "    column2_length = len(column2_list)\n",
    "                            \n",
    "    #If one/both the lists are shorter than the list of site names,\n",
    "    #we will need to extend them to comply with formatting\n",
    "    if column1_length < site_length:\n",
    "        column1_list = extend_columns(column1_list, site_length)\n",
    "    if column2_length < site_length:\n",
    "        column2_list = extend_columns(column2_list, site_length)\n",
    "    \n",
    "    #with the two lists the same size, we will merge them together\n",
    "    return merge_two_columns(site_column, column1_list, column2_list)"
   ]
  },
  {
   "cell_type": "markdown",
   "metadata": {},
   "source": [
    "## Defining Main Function"
   ]
  },
  {
   "cell_type": "code",
   "execution_count": 6,
   "metadata": {},
   "outputs": [],
   "source": [
    "#for optional inputs, set equal to none\n",
    "def extract_from_csv(site_column, latitude_column1, longitude_column1, latitude_column2 = None, longitude_column2 = None):\n",
    "    #This acts as a basis for how long our coordinate lists should be\n",
    "    site_column_length = len(site_column)\n",
    "    \n",
    "    \n",
    "    #If there is a second column for latitude data, we will need to combine them before turning it into our final list\n",
    "    if latitude_column2:\n",
    "        latitude_list = preamble_to_merging(site_column, site_column_length, latitude_column1, latitude_column2)\n",
    "    #If there is only one column of latitude data, we will immediately create a list\n",
    "    else:\n",
    "        latitude_list = df[latitude_column1].tolist()\n",
    "    \n",
    "    #If there is a second column for latitude data, we will need to combine them before turning it into our final list\n",
    "    if longitude_column2: \n",
    "        longitude_list = preamble_to_merging(site_column, site_column_length, longitude_column1, longitude_column2)\n",
    "    #If there is only one column of longitude data, we will immediately create a list\n",
    "    else:\n",
    "        longitude_list = df[longitude_column2].tolist()\n",
    "    \n",
    "    \n",
    "    position_of_valid_coordinates = []\n",
    "    position_counter = 0\n",
    "    \n",
    "    \n",
    "    for site in site_list:\n",
    "        if latitude_list[position_counter] and longitude_list[position_counter]:\n",
    "            position_of_valid_coordinates.append(position_counter)\n",
    "        position_counter += 1\n",
    "        "
   ]
  },
  {
   "cell_type": "code",
   "execution_count": 7,
   "metadata": {},
   "outputs": [
    {
     "name": "stdout",
     "output_type": "stream",
     "text": [
      "[' 36° 7\\'51.15\"N', ' 36°12\\'24.72\"N', ' 45°28\\'21.26\"N', '37°33\\'33.7\"N\\xa0', '37°33\\'34.3\"N\\xa0', '42°22\\'05.9\"N ', '36.976556', ' 39°55\\'19.18\"N', '43°10\\'03.2\"N ']\n",
      "[' 29°40\\'58.54\"E', ' 30°24\\'15.38\"E', ' 13°30\\'36.35\"E', '1°16\\'09.6\"W', '1°16\\'04.7\"W', '10°52\\'37.5\"E', '27.562942', '  3° 3\\'27.56\"E', '6°38\\'49.2\"E']\n"
     ]
    },
    {
     "ename": "IndexError",
     "evalue": "list index out of range",
     "output_type": "error",
     "traceback": [
      "\u001b[0;31m---------------------------------------------------------------------------\u001b[0m",
      "\u001b[0;31mIndexError\u001b[0m                                Traceback (most recent call last)",
      "\u001b[0;32m<ipython-input-7-d16fd8f94370>\u001b[0m in \u001b[0;36m<module>\u001b[0;34m\u001b[0m\n\u001b[1;32m      2\u001b[0m \u001b[0msite_list\u001b[0m \u001b[0;34m=\u001b[0m \u001b[0mdf\u001b[0m\u001b[0;34m[\u001b[0m\u001b[0;34m'Site'\u001b[0m\u001b[0;34m]\u001b[0m\u001b[0;34m.\u001b[0m\u001b[0mtolist\u001b[0m\u001b[0;34m(\u001b[0m\u001b[0;34m)\u001b[0m\u001b[0;34m\u001b[0m\u001b[0;34m\u001b[0m\u001b[0m\n\u001b[1;32m      3\u001b[0m \u001b[0;34m\u001b[0m\u001b[0m\n\u001b[0;32m----> 4\u001b[0;31m \u001b[0mlatitude_list\u001b[0m \u001b[0;34m=\u001b[0m \u001b[0mextract_from_csv\u001b[0m\u001b[0;34m(\u001b[0m\u001b[0;34m'site_list'\u001b[0m\u001b[0;34m,\u001b[0m\u001b[0;34m'Latitude1'\u001b[0m\u001b[0;34m,\u001b[0m \u001b[0;34m'Longitude1'\u001b[0m\u001b[0;34m,\u001b[0m \u001b[0;34m'Latitude2'\u001b[0m\u001b[0;34m,\u001b[0m \u001b[0;34m'Longitude2'\u001b[0m\u001b[0;34m)\u001b[0m\u001b[0;34m\u001b[0m\u001b[0;34m\u001b[0m\u001b[0m\n\u001b[0m",
      "\u001b[0;32m<ipython-input-6-f4d06d156850>\u001b[0m in \u001b[0;36mextract_from_csv\u001b[0;34m(site_column, latitude_column1, longitude_column1, latitude_column2, longitude_column2)\u001b[0m\n\u001b[1;32m     25\u001b[0m \u001b[0;34m\u001b[0m\u001b[0m\n\u001b[1;32m     26\u001b[0m     \u001b[0;32mfor\u001b[0m \u001b[0msite\u001b[0m \u001b[0;32min\u001b[0m \u001b[0msite_list\u001b[0m\u001b[0;34m:\u001b[0m\u001b[0;34m\u001b[0m\u001b[0;34m\u001b[0m\u001b[0m\n\u001b[0;32m---> 27\u001b[0;31m         \u001b[0;32mif\u001b[0m \u001b[0mlatitude_list\u001b[0m\u001b[0;34m[\u001b[0m\u001b[0mposition_counter\u001b[0m\u001b[0;34m]\u001b[0m \u001b[0;32mand\u001b[0m \u001b[0mlongitude_list\u001b[0m\u001b[0;34m[\u001b[0m\u001b[0mposition_counter\u001b[0m\u001b[0;34m]\u001b[0m\u001b[0;34m:\u001b[0m\u001b[0;34m\u001b[0m\u001b[0;34m\u001b[0m\u001b[0m\n\u001b[0m\u001b[1;32m     28\u001b[0m             \u001b[0mposition_of_valid_coordinates\u001b[0m\u001b[0;34m.\u001b[0m\u001b[0mappend\u001b[0m\u001b[0;34m(\u001b[0m\u001b[0mposition_counter\u001b[0m\u001b[0;34m)\u001b[0m\u001b[0;34m\u001b[0m\u001b[0;34m\u001b[0m\u001b[0m\n\u001b[1;32m     29\u001b[0m         \u001b[0mposition_counter\u001b[0m \u001b[0;34m+=\u001b[0m \u001b[0;36m1\u001b[0m\u001b[0;34m\u001b[0m\u001b[0;34m\u001b[0m\u001b[0m\n",
      "\u001b[0;31mIndexError\u001b[0m: list index out of range"
     ]
    }
   ],
   "source": [
    "df = pd.read_csv('OldMediterranean.csv')\n",
    "site_list = df['Site'].tolist()\n",
    "\n",
    "latitude_list = extract_from_csv('site_list','Latitude1', 'Longitude1', 'Latitude2', 'Longitude2')"
   ]
  },
  {
   "cell_type": "code",
   "execution_count": null,
   "metadata": {},
   "outputs": [],
   "source": []
  },
  {
   "cell_type": "code",
   "execution_count": null,
   "metadata": {},
   "outputs": [],
   "source": []
  },
  {
   "cell_type": "markdown",
   "metadata": {},
   "source": [
    "This takes our rows for latitude and longitude and turns them into a list of strings. Now we can start accessing the characters"
   ]
  },
  {
   "cell_type": "markdown",
   "metadata": {},
   "source": [
    "### Code Segment Two"
   ]
  },
  {
   "cell_type": "markdown",
   "metadata": {},
   "source": [
    "Now, we need to look at the list of strings and remove the special characters... I think in the event there is more than one potential coordinate listed, we can't assume the characters separating the two will be the same for every instance so it will be best to remove them and then check if there are any numbers separated by spaces at the end\n",
    "\n",
    "OKAY, there are some instances where the coordinates are NOT in decimal format so we've got to figure out how to work with that -_-"
   ]
  },
  {
   "cell_type": "markdown",
   "metadata": {},
   "source": [
    "#### Changing to Decimal Format"
   ]
  },
  {
   "cell_type": "markdown",
   "metadata": {},
   "source": [
    "Alright, we're going to need to be able to isolate the coordinate in the incorrect data format, hold it's position in the spreadsheet, alter it, then place it back in position"
   ]
  },
  {
   "cell_type": "code",
   "execution_count": null,
   "metadata": {},
   "outputs": [],
   "source": [
    "latToConvert = []\n",
    "longToConvert = []\n",
    "\n",
    "latCounter = []\n",
    "longCounter = []\n",
    "\n",
    "counter = 0\n",
    "for latitude in latList:\n",
    "    if \"N\" in latitude or \"S\" in latitude:\n",
    "        latToConvert.append(latitude)\n",
    "        latCounter.append(counter)\n",
    "    counter += 1\n",
    "    \n",
    "counter = 0\n",
    "for longitude in longList:\n",
    "    if \"E\" in longitude or \"W\" in longitude:\n",
    "        longToConvert.append(longitude)\n",
    "        longCounter.append(counter)\n",
    "    counter += 1"
   ]
  },
  {
   "cell_type": "code",
   "execution_count": null,
   "metadata": {},
   "outputs": [],
   "source": [
    "print(latToConvert)\n",
    "print(latCounter)\n",
    "\n",
    "print(longToConvert)\n",
    "print(longCounter)"
   ]
  },
  {
   "cell_type": "markdown",
   "metadata": {},
   "source": [
    "Alright! Now we've got our list of coordinates in the wrong data format... now all we need to do is convert\n",
    "\n",
    "In this experiment list, some of the characters separating the degrees/minutes/seconds are incorrect.. so I think it'll be best to replace special characters with spaces, change all mutlispaces to one space, and do the calculations based on that :)"
   ]
  },
  {
   "cell_type": "code",
   "execution_count": null,
   "metadata": {},
   "outputs": [],
   "source": [
    "convertedLat = []\n",
    "convertedLong = []\n",
    "\n",
    "def converter(coordinate):\n",
    "    temp = []\n",
    "    data = re.sub(r\"[^0-9.-]+\", ' ', coordinate)\n",
    "    for c in data.split():\n",
    "        try:\n",
    "            temp.append(float(c))\n",
    "        except ValueError:\n",
    "            pass\n",
    "    input = temp[0] + (temp[1]/60) + (temp[2]/3600)\n",
    "    return input\n",
    "\n",
    "for latitude in latToConvert:\n",
    "    if \"N\" in latitude:\n",
    "        input = converter(coordinate = latitude)\n",
    "        convertedLat.append(input)\n",
    "    if \"S\" in latitude:\n",
    "        input = -1 * converter(coordinate = latitude)\n",
    "        convertedLat.append(input)\n",
    "print(convertedLat)\n",
    "\n",
    "for longitude in longToConvert:\n",
    "    if \"E\" in longitude:\n",
    "        input = converter(coordinate = longitude)\n",
    "        convertedLong.append(input)\n",
    "    if \"W\" in longitude:\n",
    "        input = -1 * converter(coordinate = longitude)\n",
    "        convertedLong.append(input)\n",
    "print(convertedLong)"
   ]
  },
  {
   "cell_type": "markdown",
   "metadata": {},
   "source": [
    "Now that we habve the converted coordinate points it is time to use them to replace the main list..."
   ]
  },
  {
   "cell_type": "code",
   "execution_count": null,
   "metadata": {},
   "outputs": [],
   "source": [
    "counter = 0\n",
    "for position in latCounter:\n",
    "    latList[position] = str(convertedLat[counter])\n",
    "    counter += 1\n",
    "\n",
    "counter = 0\n",
    "for position in longCounter:\n",
    "    longList[position] = str(convertedLong[counter])\n",
    "    counter += 1\n"
   ]
  },
  {
   "cell_type": "markdown",
   "metadata": {},
   "source": [
    "#### Deleting extra characters"
   ]
  },
  {
   "cell_type": "code",
   "execution_count": null,
   "metadata": {},
   "outputs": [],
   "source": [
    "cleanLatList = []\n",
    "cleanLongList = []\n",
    "cleanSiteList = []\n",
    "\n",
    "for latitude in latList:\n",
    "    cleanLatList.append(re.sub(r\"[^0-9.-]+\", ' ', latitude))\n",
    "    \n",
    "for longitude in longList:\n",
    "    cleanLongList.append(re.sub(r\"[^0-9.-]+\", ' ', longitude))\n",
    "\n",
    "for site in siteList:\n",
    "    cleanSiteList.append(site.replace(\",\", \" /\"))"
   ]
  },
  {
   "cell_type": "markdown",
   "metadata": {},
   "source": [
    "The print statements below verify our converted coordinates are in the master list"
   ]
  },
  {
   "cell_type": "code",
   "execution_count": null,
   "metadata": {},
   "outputs": [],
   "source": [
    "print(cleanLongList[176])\n",
    "print(cleanLongList[379])\n",
    "\n",
    "print(cleanLatList[176])\n",
    "print(cleanLatList[379])\n",
    "\n",
    "print(cleanSiteList[176])\n",
    "print(cleanSiteList[379])\n",
    "print(cleanSiteList[334])"
   ]
  },
  {
   "cell_type": "markdown",
   "metadata": {},
   "source": [
    "### Okey-dokey, I was hoping we could just look at the data point with "
   ]
  },
  {
   "cell_type": "code",
   "execution_count": null,
   "metadata": {},
   "outputs": [],
   "source": [
    "for point in cleanLongList:\n",
    "    if \" \" in point.strip():\n",
    "        print(point)"
   ]
  },
  {
   "cell_type": "markdown",
   "metadata": {},
   "source": [
    "### Code Segment Three"
   ]
  },
  {
   "cell_type": "markdown",
   "metadata": {},
   "source": [
    "Alright, here we are going to make a brand new csv file with all our data points ready to be uploaded into a map :)"
   ]
  },
  {
   "cell_type": "code",
   "execution_count": null,
   "metadata": {},
   "outputs": [],
   "source": [
    "import csv\n",
    "\n",
    "counter = 0\n",
    "with open('EarlyModernPostClean.csv', 'w', newline='') as csvfile:\n",
    "    filewriter = csv.writer(csvfile, delimiter=',',quotechar='|', quoting=csv.QUOTE_MINIMAL)\n",
    "    filewriter.writerow(['Site', 'Latitude', 'Longitude'])\n",
    "    for site in cleanSiteList:\n",
    "        filewriter.writerow([cleanSiteList[counter], cleanLatList[counter], cleanLongList[counter]])\n",
    "        counter += 1\n",
    "        "
   ]
  },
  {
   "cell_type": "code",
   "execution_count": null,
   "metadata": {},
   "outputs": [],
   "source": [
    "df2 = pd.read_csv('EarlyModernPostClean.csv')\n",
    "\n",
    "df2.head()"
   ]
  },
  {
   "cell_type": "code",
   "execution_count": null,
   "metadata": {},
   "outputs": [],
   "source": []
  }
 ],
 "metadata": {
  "kernelspec": {
   "display_name": "Python 3",
   "language": "python",
   "name": "python3"
  },
  "language_info": {
   "codemirror_mode": {
    "name": "ipython",
    "version": 3
   },
   "file_extension": ".py",
   "mimetype": "text/x-python",
   "name": "python",
   "nbconvert_exporter": "python",
   "pygments_lexer": "ipython3",
   "version": "3.7.3"
  }
 },
 "nbformat": 4,
 "nbformat_minor": 2
}
