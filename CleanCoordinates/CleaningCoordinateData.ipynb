{
 "cells": [
  {
   "cell_type": "markdown",
   "metadata": {},
   "source": [
    "## Cleaning Coordinate Data"
   ]
  },
  {
   "cell_type": "markdown",
   "metadata": {},
   "source": [
    "This notebook will take in the name of a csv file, extract the Site Names, Latitude, and Longitude. It will then clean the data...\n",
    "\n",
    "# IMPORTANT: Before converting to csv, replace all commas with a slash\n",
    "\n",
    "#### Cleaning Site Names:\n",
    "* Replaces any commas with a '/' so as to not add an extra element to our csv file\n",
    "\n",
    "#### Cleaning Coordinates\n",
    "* Converts any coordinates in degree format to decimal format\n",
    "* Removes any special characterse\n",
    "* In the event there is more than one coordinate in a latitude/longitude cell, it will randomly select one as the official coordinate per Dr. Castro's instructions\n",
    "\n",
    "After all the data has been cleaned, it will output a new csv file formatted for use in Google Maps\n"
   ]
  },
  {
   "cell_type": "markdown",
   "metadata": {},
   "source": [
    "### Imports\n",
    "\n",
    "Pandas allows us to read our csv files\n",
    "\n",
    "Re allows us to make regex functions. In this notebook, we use the regex functions to remove all special characters (apart from '.' and '-') from our coordinates"
   ]
  },
  {
   "cell_type": "code",
   "execution_count": 1,
   "metadata": {},
   "outputs": [],
   "source": [
    "import pandas as pd\n",
    "import re"
   ]
  },
  {
   "cell_type": "markdown",
   "metadata": {},
   "source": [
    "### Extracting from csv file\n",
    "\n",
    "This function will take in the name of a file in csv format, and put the data in the \"Site\" \"Latitude\" and \"Longitude\" columns into lists...\n",
    "\n",
    "#### Cleaning the lists\n",
    "* We will need to delete every row that is missing coordinate data. This can either be from the cells being empty, or holding fake coordinates as placeholders (not in the constraints of coordinate range)\n",
    "    * Latitudes only range from: -90 to 90\n",
    "    * Longitudes only range from: -180 to 180"
   ]
  },
  {
   "cell_type": "markdown",
   "metadata": {},
   "source": [
    "## Defining Helper Functions"
   ]
  },
  {
   "cell_type": "code",
   "execution_count": 25,
   "metadata": {},
   "outputs": [],
   "source": [
    "#See if the coordinates fall within the acceptable range\n",
    "def is_legit_latitude(latitude):\n",
    "    if -90 <= latitude <= 90:\n",
    "        return true\n",
    "    return false\n",
    "\n",
    "def is_legit_longitude(longitude):\n",
    "    if -180 <= longitude <= 180:\n",
    "        return true\n",
    "    return false\n",
    "\n",
    "\n",
    "#Merging columns in the event there is more than one latitude of longitude column\n",
    "def merge_two_columns(site_column, column1, column2):\n",
    "    print(\"Merge\\n\")\n",
    "    merged_list = []\n",
    "    position_counter = 0\n",
    "    \n",
    "    for site in site_column:\n",
    "        if column1[position_counter]:\n",
    "            merged_list.append(column1[position_counter])\n",
    "        elif column2[position_counter]:\n",
    "            merged_list.append(column2[position_counter])\n",
    "        else:\n",
    "            merged_list.append(\" \")\n",
    "        position_counter += 1\n",
    "    \n",
    "    return merged_list\n",
    "\n",
    "\n",
    "#Increases the length of a coordinate list in the event the list of names is longer\n",
    "def extend_columns(original_column, desired_length):\n",
    "    original_column.extend([None] * desired_length)\n",
    "    extended_column = original_column[:desired_length]\n",
    "    return extended_column\n",
    "\n",
    "\n",
    "def preamble_to_merging(site_column, site_length, column1, column2):\n",
    "    print(\"Preamble\\n\")\n",
    "    #creates lists for the two different columns\n",
    "    column1_list = df[column1].tolist()\n",
    "    column2_list = df[column2].tolist()\n",
    "                            \n",
    "    #determine the length of each list... \n",
    "    column1_length = len(column1_list)\n",
    "    column2_length = len(column2_list)\n",
    "    \n",
    "        \n",
    "    print(\"Column1: \", column1_length)\n",
    "    print(column1_list)\n",
    "    print(\"\\nColumn2: \", column2_length)\n",
    "    print(column2_list)\n",
    "    print(\"\\n\")\n",
    "                            \n",
    "    #If one/both the lists are shorter than the list of site names,\n",
    "    #we will need to extend them to comply with formatting\n",
    "    if column1_length < site_length:\n",
    "        print(\"Preamble: First if\\n\")\n",
    "        column1_list = extend_columns(column1_list, site_length)\n",
    "    if column2_length < site_length:\n",
    "        print(\"Preamble: Second if\\n\")\n",
    "        column2_list = extend_columns(column2_list, site_length)\n",
    "    \n",
    "    #with the two lists the same size, we will merge them together\n",
    "    return merge_two_columns(site_column, column1_list, column2_list)"
   ]
  },
  {
   "cell_type": "markdown",
   "metadata": {},
   "source": [
    "## Defining Main Function"
   ]
  },
  {
   "cell_type": "code",
   "execution_count": 26,
   "metadata": {},
   "outputs": [],
   "source": [
    "#for optional inputs, set equal to none\n",
    "def extract_from_csv(site_column, latitude_column1, longitude_column1, latitude_column2 = None, longitude_column2 = None):\n",
    "    #This acts as a basis for how long our coordinate lists should be\n",
    "    site_column_length = len(site_column)\n",
    "    \n",
    "    \n",
    "    #If there is a second column for latitude data, we will need to combine them before turning it into our final list\n",
    "    if latitude_column2:\n",
    "        print(\"Extract: Entering first if statement\\n\")\n",
    "        latitude_list = preamble_to_merging(site_column, site_column_length, latitude_column1, latitude_column2)\n",
    "    #If there is only one column of latitude data, we will immediately create a list\n",
    "    else:\n",
    "        latitude_list = df[latitude_column1].tolist()\n",
    "    \n",
    "    #If there is a second column for latitude data, we will need to combine them before turning it into our final list\n",
    "    if longitude_column2:\n",
    "        print(\"Extract: Entering second if statement\\n\")\n",
    "        longitude_list = preamble_to_merging(site_column, site_column_length, longitude_column1, longitude_column2)\n",
    "    #If there is only one column of longitude data, we will immediately create a list\n",
    "    else:\n",
    "        longitude_list = df[longitude_column2].tolist()\n",
    "    \n",
    "    \n",
    "    position_of_valid_coordinates = []\n",
    "    position_counter = 0\n",
    "    \n",
    "    \n",
    "    for site in site_list:\n",
    "        if latitude_list[position_counter] and longitude_list[position_counter]:\n",
    "            position_of_valid_coordinates.append(position_counter)\n",
    "        position_counter += 1\n",
    "        "
   ]
  },
  {
   "cell_type": "code",
   "execution_count": 27,
   "metadata": {},
   "outputs": [
    {
     "name": "stdout",
     "output_type": "stream",
     "text": [
      "Extract: Entering first if statement\n",
      "\n",
      "Preamble\n",
      "\n",
      "Column1:  234\n",
      "[' 36° 7\\'51.15\"N', ' 36°12\\'24.72\"N', ' 45°28\\'21.26\"N', '37°33\\'33.7\"N\\xa0', '37°33\\'34.3\"N\\xa0', '42°22\\'05.9\"N ', '36.976556', ' 39°55\\'19.18\"N', '43°10\\'03.2\"N ', '43°17\\'59.9\"N', '43°17\\'59.0\"N ', '43°17\\'59.6\"N ', '37°02\\'28.3\"N ', '37°02\\'33.1\"N ', ' 42°31\\'32.66\"N', ' 31°20\\'0.16\"N', '37°02\\'25.3\"N ', '32°33\\'21.1\"N ', ' 31°19\\'45.70\"N', '39°49\\'25.4\"N\\xa0', ' 34°47\\'18.00\"N', '35°20\\'49.9\"N ', ' 41°29\\'3.07\"N', '37°52\\'16.0\"N ', '37°52\\'16.0\"N ', '43°01\\'31.8\"N ', ' 43° 0\\'37.83\"N', ' 43°43\\'27.17\"N', ' 43°25\\'30.61\"N', ' 43° 9\\'53.55\"N', ' 43°11\\'45.62\"N', ' 43°11\\'44.52\"N', ' 43°15\\'49.17\"N', ' 43° 0\\'24.17\"N', ' 45° 7\\'35.14\"N', ' 43° 8\\'47.77\"N', ' 39°10\\'30.76\"N', ' 39°18\\'55.81\"N', ' 41°51\\'48.04\"N', ' 43° 1\\'54.44\"N', '43°32\\'32.5\"N ', ' 43° 4\\'4.34\"N', '43°01\\'04.5\"N ', '43°16\\'18.5\"N ', '35°31\\'54.9\"N ', '43°02\\'59.8\"N ', '43°23\\'56.4\"N ', ' 43°25\\'24.66\"N', '43°02\\'29.1\"N ', '43°24\\'34.2\"N ', ' 43°40\\'25.89\"N', ' 43°40\\'31.88\"N', ' 43°10\\'58.19\"N', ' 43°26\\'40.06\"N', nan, ' 42°20\\'53.85\"N', ' 41°51\\'34.20\"N', ' 45°45\\'55.28\"N', ' 42°30\\'54.52\"N', ' 43°31\\'16.93\"N', '43°24\\'49.9\"N ', ' 41°21\\'60.00\"N', ' 43°40\\'32.63\"N', ' 43°17\\'0.69\"N', ' 42°21\\'41.12\"N', ' 41°56\\'37.56\"N', ' 43° 1\\'17.17\"N', nan, ' 44°42\\'46.87\"N', nan, nan, ' 41°19\\'25.64\"N', ' 43°43\\'27.17\"N', ' 43° 1\\'16.18\"N', ' 41°22\\'11.18\"N', \"43º24'36.0'' N\", ' 44°32\\'53.45\"N', ' 44°32\\'56.06\"N', ' 44°32\\'56.06\"N', nan, ' 45°59\\'23.47\"N', ' 43°17\\'47.48\"N', ' 43°17\\'47.48\"N', ' 43°27\\'29.46\"N', ' 43°43\\'27.17\"N', ' 43°43\\'27.17\"N', \"43º00'53.4'' N\", ' 41°19\\'21.17\"N', ' 41°43\\'10.20\"N', ' 41°43\\'8.36\"N', ' 32°43\\'9.37\"N', ' 32°30\\'25.06\"N', ' 45°47\\'29.41\"N', \"43º26'6'' N\", ' 43°26\\'32.74\"N', ' 43°16\\'26.67\"N', nan, ' 41°19\\'29.12\"N', ' 43°16\\'5.09\"N', ' 40°50\\'22.05\"N', ' 43°40\\'36.90\"N', ' 43°54\\'14.78\"N', ' 39°32\\'27.70\"N', ' 40° 3\\'44.84\"N', nan, nan, ' 38°29\\'40.70\"N', ' 38°21\\'20.92\"N', ' 31°12\\'16.28\"N', ' 43°43\\'27.17\"N', ' 43°43\\'27.17\"N', ' 40°48\\'18.35\"N', ' 40°48\\'18.35\"N', ' 49°59\\'50.17\"N', ' 43°43\\'27.17\"N', ' 43°43\\'27.17\"N', ' 41°47\\'12.48\"N', ' 39°59\\'58.16\"N', ' 43°17\\'47.48\"N', ' 43°17\\'47.48\"N', ' 43°40\\'37.30\"N', ' 43°40\\'37.40\"N', ' 43°13\\'14.27\"N', '43°24\\'09.9\"N ', ' 42°31\\'10.76\"N', ' 45°47\\'56.60\"N', ' 40°50\\'22.05\"N', ' 45°40\\'23.87\"N', ' 43°21\\'15.56\"N', ' 40°50\\'22.05\"N', '43°43\\'49.6\"N ', '43°17\\'57.8\"N ', ' 43°17\\'46.81\"N', ' 43° 2\\'22.35\"N', ' 41°47\\'12.48\"N', ' 41°45\\'25.20\"N', ' 43°21\\'16.10\"N', ' 43°17\\'47.48\"N', ' 41°45\\'25.20\"N', ' 50° 0\\'7.66\"N', ' 43°16\\'17.17\"N', ' 43°21\\'11.06\"N', \"51º 30' N\", ' 43°21\\'8.92\"N', '43°16\\'14.8\"N ', '36°59\\'58.3\"N ', ' 50° 0\\'8.14\"N', '43°24\\'14.5\"N ', ' 43°54\\'16.72\"N', ' 41°47\\'12.48\"N', ' 41°47\\'12.48\"N', ' 41°47\\'12.48\"N', ' 32°36\\'24.88\"N', ' 42°31\\'11.60\"N', ' 50° 0\\'5.51\"N', ' 50° 0\\'8.96\"N', ' 50° 0\\'7.40\"N', '41°00\\'21.0\"N ', '41°00\\'19.1\"N ', '43°24\\'45\"N ', '41°00\\'20.2\"N ', '41°00\\'20.3\"N ', nan, ' 44°25\\'34.28\"N', ' 32°36\\'31.63\"N', nan, ' 43°43\\'27.17\"N', ' 32°36\\'30.13\"N', '\\xa032°36′ 01″ N', ' 45°46\\'34.12\"N', '36°59\\'58.3\"N ', ' 36°42\\'19.43\"N', '41°00\\'15.0\"N ', ' 32°36\\'31\"N', '43°25\\'11.9\"N', ' 32°36\\'30.58\"N', '41°00\\'21.0\"N ', '41°00\\'19.2\"N ', '41°00\\'21.1\"N ', '41°00\\'20.9\"N ', '41°00\\'19.3\"N ', '41°00\\'21.7\"N ', '41°00\\'19.5\"N ', '41°00\\'21.7\"N ', '41°00\\'22.9\"N ', '41°00\\'20.5\"N ', '41°00\\'21.2\"N ', '41°00\\'20.4\"N ', '41°00\\'17.1\"N ', '41°00\\'21.5\"N ', '41°00\\'19.0\"N ', ' 32°36\\'32.26\"N', '41°00\\'17.1\"N ', '41°00\\'19.5\"N ', '41°00\\'19.0\"N ', '41°00\\'18.3\"N ', '36°43\\'19.8\"N ', '43°31\\'26.8\"N ', '43°24\\'58.1\"N', nan, nan, '41°00\\'22.5\"N ', '41°00\\'19.4\"N ', '41°00\\'13.5\"N ', ' 37°23\\'18.20\"N', '41°00\\'18.5\"N ', '41°00\\'20.9\"N ', '41°00\\'20.9\"N ', '41°00\\'21.5\"N ', '41°00\\'21.9\"N ', '41°00\\'17.7\"N ', '41°00\\'21.4\"N ', '41°00\\'21.0\"N ', '36°34\\'55.3\"N ', ' 45°47\\'9.90\"N', nan, nan, nan, nan, nan, nan, nan, nan, nan, nan, nan, nan, ' 43°10\\'36.77\"N', ' 43°10\\'36.77\"N', nan, nan, nan, nan, nan]\n",
      "\n",
      "Column2:  234\n",
      "[nan, nan, nan, nan, nan, nan, nan, nan, nan, nan, nan, nan, nan, nan, nan, nan, nan, nan, nan, nan, nan, nan, nan, nan, nan, nan, nan, nan, nan, nan, nan, nan, nan, nan, nan, nan, nan, nan, nan, nan, nan, nan, nan, nan, nan, nan, nan, nan, nan, nan, nan, nan, nan, nan, ' 43.198699°', nan, nan, nan, nan, nan, nan, nan, nan, nan, nan, nan, nan, ' 45.410928°', nan, ' 44.866904°', ' 44.866904°', nan, nan, nan, nan, nan, nan, nan, nan, ' 44.547548°', nan, nan, nan, nan, nan, nan, nan, nan, nan, nan, nan, nan, nan, nan, nan, nan, ' 44.230688°', nan, nan, nan, nan, nan, nan, nan, ' 40.913372°', ' 40.912928°', nan, nan, nan, nan, nan, nan, nan, nan, nan, nan, nan, nan, nan, nan, nan, nan, nan, nan, nan, nan, nan, nan, nan, nan, nan, nan, nan, nan, nan, nan, nan, nan, nan, nan, nan, nan, nan, nan, nan, nan, nan, nan, nan, nan, nan, nan, nan, nan, nan, nan, nan, nan, nan, nan, nan, nan, ' 43.128970°', nan, nan, ' 44.263229°', nan, nan, nan, nan, nan, nan, nan, nan, nan, nan, nan, nan, nan, nan, nan, nan, nan, nan, nan, nan, nan, nan, nan, nan, nan, nan, nan, nan, nan, nan, nan, nan, nan, ' 43.412880°', ' 43.184609°', nan, nan, nan, nan, nan, nan, nan, nan, nan, nan, nan, nan, nan, nan, ' 45.488587°', ' 45.342062°', '44.846606°', ' 45.037559°', ' 43.120240°', ' 43.120276°', ' 40.912354°', ' 40.911741°', ' 40.913515°', ' 40.912823°', ' 40.912158°', ' 45.278852°', nan, nan, ' 45.037559°', ' 43.583415°', ' 44.230687°', nan, nan]\n",
      "\n",
      "\n",
      "Merge\n",
      "\n",
      "Extract: Entering second if statement\n",
      "\n",
      "Preamble\n",
      "\n",
      "Column1:  234\n",
      "[' 29°40\\'58.54\"E', ' 30°24\\'15.38\"E', ' 13°30\\'36.35\"E', '1°16\\'09.6\"W', '1°16\\'04.7\"W', '10°52\\'37.5\"E', '27.562942', '  3° 3\\'27.56\"E', '6°38\\'49.2\"E', '5°21\\'25.1\"E', '5°21\\'26.4\"E', '5°21\\'28.1\"E', '14°16\\'46.0\"E', '14°16\\'47.8\"E', '  9°31\\'44.59\"E', ' 30° 7\\'42.05\"E', '14°15\\'24.5\"E', '34°54\\'14.5\"E', ' 30° 7\\'54.50\"E', '4°13\\'06.7\"E', ' 33°31\\'33.79\"E', '33°19\\'14.4\"E', ' 31° 9\\'43.64\"E', '12°26\\'05.5\"E', '12°26\\'05.5\"E', '6°09\\'21.3\"E', '  9°25\\'53.48\"E', ' 10°23\\'15.47\"E', '  6°53\\'19.13\"E', '  6°37\\'54.65\"E', '  5°21\\'41.74\"E', '  6°41\\'16.70\"E', '  5°17\\'6.37\"E', '  6°12\\'11.92\"E', ' 12°14\\'14.78\"E', '  6°25\\'27.64\"E', '  2°57\\'43.63\"E', '  3° 0\\'3.76\"E', '  3°11\\'19.60\"E', '  6°10\\'41.60\"E', '7°07\\'26.2\"E', '  6°21\\'8.43\"E', '6°22\\'37.4\"E', '5°18\\'07.1\"E', '11°07\\'28.1\"E', '6°31\\'31.3\"E', '6°50\\'37.4\"E', '  6°53\\'39.82\"E', '6°05\\'37.4\"E', '6°50\\'53.0\"E', '  4°36\\'47.27\"E', '  4°36\\'56.22\"E', '  5°22\\'54.60\"E', '  4°23\\'6.38\"E', nan, '  3°12\\'46.15\"E', '  3°11\\'57.62\"E', ' 13°20\\'11.45\"E', '  3° 8\\'52.97\"E', '  7° 4\\'27.95\"E', '4°56\\'53.5\"E', '  9°18\\'21.93\"E', '  4°36\\'57.96\"E', '  6°40\\'45.24\"E', '  3°10\\'31.41\"E', ' 12° 4\\'33.98\"E', '  6° 8\\'50.16\"E', nan, ' 12° 9\\'27.81\"E', nan, nan, '  9°16\\'33.10\"E', ' 10°23\\'15.47\"E', '  9°23\\'48.41\"E', '  9°18\\'14.82\"E', '06º50.36.0 E', ' 14°55\\'23.39\"E', ' 14°55\\'12.22\"E', ' 14°55\\'12.22\"E', nan, ' 14°26\\'49.43\"E', '  5°22\\'7.28\"E', '  5°22\\'7.28\"E', '  3°40\\'33.80\"E', ' 10°23\\'15.47\"E', ' 10°23\\'15.47\"E', \"9º23'42.2''E\", '  9°16\\'44.75\"E', ' 12°42\\'0.36\"E', '12°41\\'59.65\"E', ' 35°34\\'20.50\"E', ' 34°53\\'33.46\"E', ' 13° 4\\'55.09\"E', \"06°54'8'' E\", '  4°23\\'53.80\"E', '  3°28\\'12.53\"E', nan, '  9°15\\'40.44\"E', ' 5°18\\'2.38\"E', ' 14°15\\'12.35\"E', '  4°37\\'3.82\"E', '  8° 5\\'20.43\"E', '  3°20\\'13.40\"E', '  3°48\\'52.09\"E', nan, nan, '  0°12\\'54.94\"O', '  0°26\\'14.68\"O', ' 29°53\\'44.62\"E', ' 10°23\\'15.47\"E', ' 10°23\\'15.47\"E', ' 14°20\\'48.07\"E', ' 14°20\\'48.07\"E', '  8°16\\'39.69\"E', ' 10°23\\'15.47\"E', ' 10°23\\'15.47\"E', ' 12°15\\'24.75\"E', '  3°49\\'41.51\"E', '  5°22\\'7.28\"E', '  5°22\\'7.28\"E', '  4°37\\'4.57\"E', '  4°37\\'4.99\"E', '  5°19\\'24.95\"E', '4°55\\'15.7\"E', '  3° 6\\'53.31\"E', ' 13°32\\'41.71\"E', ' 14°15\\'12.35\"E', ' 13°23\\'4.03\"E', '  5° 1\\'27.10\"E', ' 14°15\\'12.35\"E', '7°25\\'33.3\"E', '5°21\\'14.1\"E', '  5°22\\'4.61\"E', '  6°17\\'0.51\"E', ' 12°15\\'24.75\"E', ' 12°16\\'54.09\"E', '  5° 1\\'30.07\"E', '  5°22\\'7.28\"E', ' 12°16\\'54.09\"E', '  8°16\\'28.63\"E', '  5°18\\'6.32\"E', '  5° 1\\'27.45\"E', \" 0º 10' W\", '  5° 1\\'26.36\"E', '5°18\\'20.1\"E', '27°14\\'14.7\"E', '  8°16\\'28.17\"E', '6°50\\'56.0\"E', ' 15°30\\'16.96\"E', ' 12°15\\'24.75\"E', ' 12°15\\'24.75\"E', ' 12°15\\'24.75\"E', ' 34°54\\'51.73\"E', '  3° 6\\'45.43\"E', '  8°16\\'30.65\"E', '  8°16\\'28.12\"E', '  8°16\\'28.72\"E', '28°57\\'01.1\"E', '28°57\\'01.5\"E', '6°50\\'11\"E', '28°57\\'03.8\"E', '28°57\\'02.2\"E', nan, ' 12°12\\'29.49\"E', ' 34°54\\'56.19\"E', nan, ' 10°23\\'15.47\"E', ' 34°54\\'55.14\"E', '\\xa034°54′ 55″ E', '  0°37\\'33.37\"W', '27°14\\'14.7\"E', ' 15° 0\\'3.74\"E', '28°56\\'47.7\"E', ' 34°54\\'56\"E', '4°54\\'42.0\"E', ' 34°54\\'53.99\"E', '28°57\\'11.0\"E', '28°57\\'11.3\"E', '28°57\\'05.6\"E', '28°57\\'04.8\"E', '28°57\\'03.5\"E', '28°57\\'11.3\"E', '28°57\\'01.1\"E', '28°57\\'10.8\"E', '28°57\\'09.2\"E', '28°57\\'10.7\"E', '28°57\\'09.5\"E', '28°57\\'10.9\"E', '28°57\\'00.5\"E', '28°57\\'03.8\"E', '28°57\\'00.8\"E', ' 34°54\\'56.23\"E', '28°56\\'59.7\"E', '28°57\\'02.0\"E', '28°56\\'58.3\"E', '28°57\\'08.1\"E', '28°06\\'10.7\"E', '7°02\\'18.3\"E', '6°51\\'40.0\"E', nan, nan, '28°57\\'09.2\"E', '28°57\\'08.3\"E', '28°56\\'59.8\"E', '  5°59\\'43.94\"O', '28°57\\'08.0\"E', '28°57\\'09.2\"E', '28°57\\'09.7\"E', '28°57\\'08.4\"E', '28°57\\'09.1\"E', '28°57\\'05.6\"E', '28°57\\'06.5\"E', '28°57\\'11.6\"E', '28°04\\'15.2\"E', ' 13° 4\\'45.70\"E', nan, nan, nan, nan, nan, nan, nan, nan, nan, nan, nan, nan, '  5°24\\'0.37\"E', '  5°24\\'0.37\"E', nan, nan, nan, nan, nan]\n",
      "\n",
      "Column2:  234\n",
      "[nan, nan, nan, nan, nan, nan, nan, nan, nan, nan, nan, nan, nan, nan, nan, nan, nan, nan, nan, nan, nan, nan, nan, nan, nan, nan, nan, nan, nan, nan, nan, nan, nan, nan, nan, nan, nan, nan, nan, nan, nan, nan, nan, nan, nan, nan, nan, nan, nan, nan, nan, nan, nan, nan, '  5.228740°', nan, nan, nan, nan, nan, nan, nan, nan, nan, nan, nan, nan, ' 11.877503°', nan, ' 13.845123°', ' 13.845123°', nan, nan, nan, nan, nan, nan, nan, nan, ' 14.919873°', nan, nan, nan, nan, nan, nan, nan, nan, nan, nan, nan, nan, nan, nan, nan, nan, ' 15.155692°', nan, nan, nan, nan, nan, nan, nan, '  9.507514°', '  9.507566°', nan, nan, nan, nan, nan, nan, nan, nan, nan, nan, nan, nan, nan, nan, nan, nan, nan, nan, nan, nan, nan, nan, nan, nan, nan, nan, nan, nan, nan, nan, nan, nan, nan, nan, nan, nan, nan, nan, nan, nan, nan, nan, nan, nan, nan, nan, nan, nan, nan, nan, nan, nan, nan, nan, nan, nan, '  3.019653°', nan, nan, ' 12.357070°', nan, nan, nan, nan, nan, nan, nan, nan, nan, nan, nan, nan, nan, nan, nan, nan, nan, nan, nan, nan, nan, nan, nan, nan, nan, nan, nan, nan, nan, nan, nan, nan, nan, '  6.859982°', '  5.389459°', nan, nan, nan, nan, nan, nan, nan, nan, nan, nan, nan, nan, nan, nan, ' 16.369855°', ' 12.329905°', ' 12.179127°', ' 12.174104°', '  5.937979°', '  5.937531°', '  9.507531°', '  9.507514°', '  9.509241°', '  9.509172°', '  9.509154°', '36.956561°', nan, nan, ' 12.174104°', '  7.126182°', ' 15.155384°', nan, nan]\n",
      "\n",
      "\n",
      "Merge\n",
      "\n"
     ]
    },
    {
     "ename": "IndexError",
     "evalue": "list index out of range",
     "output_type": "error",
     "traceback": [
      "\u001b[0;31m---------------------------------------------------------------------------\u001b[0m",
      "\u001b[0;31mIndexError\u001b[0m                                Traceback (most recent call last)",
      "\u001b[0;32m<ipython-input-27-d16fd8f94370>\u001b[0m in \u001b[0;36m<module>\u001b[0;34m\u001b[0m\n\u001b[1;32m      2\u001b[0m \u001b[0msite_list\u001b[0m \u001b[0;34m=\u001b[0m \u001b[0mdf\u001b[0m\u001b[0;34m[\u001b[0m\u001b[0;34m'Site'\u001b[0m\u001b[0;34m]\u001b[0m\u001b[0;34m.\u001b[0m\u001b[0mtolist\u001b[0m\u001b[0;34m(\u001b[0m\u001b[0;34m)\u001b[0m\u001b[0;34m\u001b[0m\u001b[0;34m\u001b[0m\u001b[0m\n\u001b[1;32m      3\u001b[0m \u001b[0;34m\u001b[0m\u001b[0m\n\u001b[0;32m----> 4\u001b[0;31m \u001b[0mlatitude_list\u001b[0m \u001b[0;34m=\u001b[0m \u001b[0mextract_from_csv\u001b[0m\u001b[0;34m(\u001b[0m\u001b[0;34m'site_list'\u001b[0m\u001b[0;34m,\u001b[0m\u001b[0;34m'Latitude1'\u001b[0m\u001b[0;34m,\u001b[0m \u001b[0;34m'Longitude1'\u001b[0m\u001b[0;34m,\u001b[0m \u001b[0;34m'Latitude2'\u001b[0m\u001b[0;34m,\u001b[0m \u001b[0;34m'Longitude2'\u001b[0m\u001b[0;34m)\u001b[0m\u001b[0;34m\u001b[0m\u001b[0;34m\u001b[0m\u001b[0m\n\u001b[0m",
      "\u001b[0;32m<ipython-input-26-8af84babf797>\u001b[0m in \u001b[0;36mextract_from_csv\u001b[0;34m(site_column, latitude_column1, longitude_column1, latitude_column2, longitude_column2)\u001b[0m\n\u001b[1;32m     27\u001b[0m \u001b[0;34m\u001b[0m\u001b[0m\n\u001b[1;32m     28\u001b[0m     \u001b[0;32mfor\u001b[0m \u001b[0msite\u001b[0m \u001b[0;32min\u001b[0m \u001b[0msite_list\u001b[0m\u001b[0;34m:\u001b[0m\u001b[0;34m\u001b[0m\u001b[0;34m\u001b[0m\u001b[0m\n\u001b[0;32m---> 29\u001b[0;31m         \u001b[0;32mif\u001b[0m \u001b[0mlatitude_list\u001b[0m\u001b[0;34m[\u001b[0m\u001b[0mposition_counter\u001b[0m\u001b[0;34m]\u001b[0m \u001b[0;32mand\u001b[0m \u001b[0mlongitude_list\u001b[0m\u001b[0;34m[\u001b[0m\u001b[0mposition_counter\u001b[0m\u001b[0;34m]\u001b[0m\u001b[0;34m:\u001b[0m\u001b[0;34m\u001b[0m\u001b[0;34m\u001b[0m\u001b[0m\n\u001b[0m\u001b[1;32m     30\u001b[0m             \u001b[0mposition_of_valid_coordinates\u001b[0m\u001b[0;34m.\u001b[0m\u001b[0mappend\u001b[0m\u001b[0;34m(\u001b[0m\u001b[0mposition_counter\u001b[0m\u001b[0;34m)\u001b[0m\u001b[0;34m\u001b[0m\u001b[0;34m\u001b[0m\u001b[0m\n\u001b[1;32m     31\u001b[0m         \u001b[0mposition_counter\u001b[0m \u001b[0;34m+=\u001b[0m \u001b[0;36m1\u001b[0m\u001b[0;34m\u001b[0m\u001b[0;34m\u001b[0m\u001b[0m\n",
      "\u001b[0;31mIndexError\u001b[0m: list index out of range"
     ]
    }
   ],
   "source": [
    "df = pd.read_csv('OldMediterranean.csv')\n",
    "site_list = df['Site'].tolist()\n",
    "\n",
    "latitude_list = extract_from_csv('site_list','Latitude1', 'Longitude1', 'Latitude2', 'Longitude2')"
   ]
  },
  {
   "cell_type": "code",
   "execution_count": null,
   "metadata": {},
   "outputs": [],
   "source": []
  },
  {
   "cell_type": "code",
   "execution_count": null,
   "metadata": {},
   "outputs": [],
   "source": []
  },
  {
   "cell_type": "markdown",
   "metadata": {},
   "source": [
    "This takes our rows for latitude and longitude and turns them into a list of strings. Now we can start accessing the characters"
   ]
  },
  {
   "cell_type": "markdown",
   "metadata": {},
   "source": [
    "### Code Segment Two"
   ]
  },
  {
   "cell_type": "markdown",
   "metadata": {},
   "source": [
    "Now, we need to look at the list of strings and remove the special characters... I think in the event there is more than one potential coordinate listed, we can't assume the characters separating the two will be the same for every instance so it will be best to remove them and then check if there are any numbers separated by spaces at the end\n",
    "\n",
    "OKAY, there are some instances where the coordinates are NOT in decimal format so we've got to figure out how to work with that -_-"
   ]
  },
  {
   "cell_type": "markdown",
   "metadata": {},
   "source": [
    "#### Changing to Decimal Format"
   ]
  },
  {
   "cell_type": "markdown",
   "metadata": {},
   "source": [
    "Alright, we're going to need to be able to isolate the coordinate in the incorrect data format, hold it's position in the spreadsheet, alter it, then place it back in position"
   ]
  },
  {
   "cell_type": "code",
   "execution_count": null,
   "metadata": {},
   "outputs": [],
   "source": [
    "latToConvert = []\n",
    "longToConvert = []\n",
    "\n",
    "latCounter = []\n",
    "longCounter = []\n",
    "\n",
    "counter = 0\n",
    "for latitude in latList:\n",
    "    if \"N\" in latitude or \"S\" in latitude:\n",
    "        latToConvert.append(latitude)\n",
    "        latCounter.append(counter)\n",
    "    counter += 1\n",
    "    \n",
    "counter = 0\n",
    "for longitude in longList:\n",
    "    if \"E\" in longitude or \"W\" in longitude:\n",
    "        longToConvert.append(longitude)\n",
    "        longCounter.append(counter)\n",
    "    counter += 1"
   ]
  },
  {
   "cell_type": "code",
   "execution_count": null,
   "metadata": {},
   "outputs": [],
   "source": [
    "print(latToConvert)\n",
    "print(latCounter)\n",
    "\n",
    "print(longToConvert)\n",
    "print(longCounter)"
   ]
  },
  {
   "cell_type": "markdown",
   "metadata": {},
   "source": [
    "Alright! Now we've got our list of coordinates in the wrong data format... now all we need to do is convert\n",
    "\n",
    "In this experiment list, some of the characters separating the degrees/minutes/seconds are incorrect.. so I think it'll be best to replace special characters with spaces, change all mutlispaces to one space, and do the calculations based on that :)"
   ]
  },
  {
   "cell_type": "code",
   "execution_count": null,
   "metadata": {},
   "outputs": [],
   "source": [
    "convertedLat = []\n",
    "convertedLong = []\n",
    "\n",
    "def converter(coordinate):\n",
    "    temp = []\n",
    "    data = re.sub(r\"[^0-9.-]+\", ' ', coordinate)\n",
    "    for c in data.split():\n",
    "        try:\n",
    "            temp.append(float(c))\n",
    "        except ValueError:\n",
    "            pass\n",
    "    input = temp[0] + (temp[1]/60) + (temp[2]/3600)\n",
    "    return input\n",
    "\n",
    "for latitude in latToConvert:\n",
    "    if \"N\" in latitude:\n",
    "        input = converter(coordinate = latitude)\n",
    "        convertedLat.append(input)\n",
    "    if \"S\" in latitude:\n",
    "        input = -1 * converter(coordinate = latitude)\n",
    "        convertedLat.append(input)\n",
    "print(convertedLat)\n",
    "\n",
    "for longitude in longToConvert:\n",
    "    if \"E\" in longitude:\n",
    "        input = converter(coordinate = longitude)\n",
    "        convertedLong.append(input)\n",
    "    if \"W\" in longitude:\n",
    "        input = -1 * converter(coordinate = longitude)\n",
    "        convertedLong.append(input)\n",
    "print(convertedLong)"
   ]
  },
  {
   "cell_type": "markdown",
   "metadata": {},
   "source": [
    "Now that we habve the converted coordinate points it is time to use them to replace the main list..."
   ]
  },
  {
   "cell_type": "code",
   "execution_count": null,
   "metadata": {},
   "outputs": [],
   "source": [
    "counter = 0\n",
    "for position in latCounter:\n",
    "    latList[position] = str(convertedLat[counter])\n",
    "    counter += 1\n",
    "\n",
    "counter = 0\n",
    "for position in longCounter:\n",
    "    longList[position] = str(convertedLong[counter])\n",
    "    counter += 1\n"
   ]
  },
  {
   "cell_type": "markdown",
   "metadata": {},
   "source": [
    "#### Deleting extra characters"
   ]
  },
  {
   "cell_type": "code",
   "execution_count": null,
   "metadata": {},
   "outputs": [],
   "source": [
    "cleanLatList = []\n",
    "cleanLongList = []\n",
    "cleanSiteList = []\n",
    "\n",
    "for latitude in latList:\n",
    "    cleanLatList.append(re.sub(r\"[^0-9.-]+\", ' ', latitude))\n",
    "    \n",
    "for longitude in longList:\n",
    "    cleanLongList.append(re.sub(r\"[^0-9.-]+\", ' ', longitude))\n",
    "\n",
    "for site in siteList:\n",
    "    cleanSiteList.append(site.replace(\",\", \" /\"))"
   ]
  },
  {
   "cell_type": "markdown",
   "metadata": {},
   "source": [
    "The print statements below verify our converted coordinates are in the master list"
   ]
  },
  {
   "cell_type": "code",
   "execution_count": null,
   "metadata": {},
   "outputs": [],
   "source": [
    "print(cleanLongList[176])\n",
    "print(cleanLongList[379])\n",
    "\n",
    "print(cleanLatList[176])\n",
    "print(cleanLatList[379])\n",
    "\n",
    "print(cleanSiteList[176])\n",
    "print(cleanSiteList[379])\n",
    "print(cleanSiteList[334])"
   ]
  },
  {
   "cell_type": "markdown",
   "metadata": {},
   "source": [
    "### Okey-dokey, I was hoping we could just look at the data point with "
   ]
  },
  {
   "cell_type": "code",
   "execution_count": null,
   "metadata": {},
   "outputs": [],
   "source": [
    "for point in cleanLongList:\n",
    "    if \" \" in point.strip():\n",
    "        print(point)"
   ]
  },
  {
   "cell_type": "markdown",
   "metadata": {},
   "source": [
    "### Code Segment Three"
   ]
  },
  {
   "cell_type": "markdown",
   "metadata": {},
   "source": [
    "Alright, here we are going to make a brand new csv file with all our data points ready to be uploaded into a map :)"
   ]
  },
  {
   "cell_type": "code",
   "execution_count": null,
   "metadata": {},
   "outputs": [],
   "source": [
    "import csv\n",
    "\n",
    "counter = 0\n",
    "with open('EarlyModernPostClean.csv', 'w', newline='') as csvfile:\n",
    "    filewriter = csv.writer(csvfile, delimiter=',',quotechar='|', quoting=csv.QUOTE_MINIMAL)\n",
    "    filewriter.writerow(['Site', 'Latitude', 'Longitude'])\n",
    "    for site in cleanSiteList:\n",
    "        filewriter.writerow([cleanSiteList[counter], cleanLatList[counter], cleanLongList[counter]])\n",
    "        counter += 1\n",
    "        "
   ]
  },
  {
   "cell_type": "code",
   "execution_count": null,
   "metadata": {},
   "outputs": [],
   "source": [
    "df2 = pd.read_csv('EarlyModernPostClean.csv')\n",
    "\n",
    "df2.head()"
   ]
  },
  {
   "cell_type": "code",
   "execution_count": null,
   "metadata": {},
   "outputs": [],
   "source": []
  }
 ],
 "metadata": {
  "kernelspec": {
   "display_name": "Python 3",
   "language": "python",
   "name": "python3"
  },
  "language_info": {
   "codemirror_mode": {
    "name": "ipython",
    "version": 3
   },
   "file_extension": ".py",
   "mimetype": "text/x-python",
   "name": "python",
   "nbconvert_exporter": "python",
   "pygments_lexer": "ipython3",
   "version": "3.7.3"
  }
 },
 "nbformat": 4,
 "nbformat_minor": 2
}
