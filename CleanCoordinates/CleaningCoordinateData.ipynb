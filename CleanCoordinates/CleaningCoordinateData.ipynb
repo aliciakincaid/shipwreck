{
 "cells": [
  {
   "cell_type": "markdown",
   "metadata": {},
   "source": [
    "## Cleaning Coordinate Data"
   ]
  },
  {
   "cell_type": "markdown",
   "metadata": {},
   "source": [
    "This notebook will take in the name of a csv file, extract the Site Names, Latitude, and Longitude. It will then clean the data...\n",
    "\n",
    "# IMPORTANT: Before converting to csv, replace all commas with a slash\n",
    "\n",
    "#### Cleaning Site Names:\n",
    "* Replaces any commas with a '/' so as to not add an extra element to our csv file\n",
    "\n",
    "#### Cleaning Coordinates\n",
    "* Converts any coordinates in degree format to decimal format\n",
    "* Removes any special characterse\n",
    "* In the event there is more than one coordinate in a latitude/longitude cell, it will randomly select one as the official coordinate per Dr. Castro's instructions\n",
    "\n",
    "After all the data has been cleaned, it will output a new csv file formatted for use in Google Maps\n"
   ]
  },
  {
   "cell_type": "markdown",
   "metadata": {},
   "source": [
    "### Imports\n",
    "\n",
    "Pandas allows us to read our csv files\n",
    "\n",
    "Re allows us to make regex functions. In this notebook, we use the regex functions to remove all special characters (apart from '.' and '-') from our coordinates"
   ]
  },
  {
   "cell_type": "code",
   "execution_count": 1,
   "metadata": {},
   "outputs": [],
   "source": [
    "import pandas as pd\n",
    "import re"
   ]
  },
  {
   "cell_type": "markdown",
   "metadata": {},
   "source": [
    "### Extracting from csv file\n",
    "\n",
    "This function will take in the name of a file in csv format, and put the data in the \"Site\" \"Latitude\" and \"Longitude\" columns into lists...\n",
    "\n",
    "#### Cleaning the lists\n",
    "* We will need to delete every row that is missing coordinate data. This can either be from the cells being empty, or holding fake coordinates as placeholders (not in the constraints of coordinate range)\n",
    "    * Latitudes only range from: -90 to 90\n",
    "    * Longitudes only range from: -180 to 180"
   ]
  },
  {
   "cell_type": "markdown",
   "metadata": {},
   "source": [
    "## Defining Helper Functions"
   ]
  },
  {
   "cell_type": "code",
   "execution_count": 2,
   "metadata": {},
   "outputs": [],
   "source": [
    "#Merging columns in the event there is more than one latitude of longitude column\n",
    "def merge_two_columns(site_column, column1, column2):\n",
    "    merged_list = []\n",
    "    position_counter = 0\n",
    "    \n",
    "    for site in site_column:\n",
    "        if (str(column1[position_counter]) != 'nan'):\n",
    "            merged_list.append(column1[position_counter])\n",
    "        elif (str(column2[position_counter]) != 'nan'):\n",
    "            merged_list.append(column2[position_counter])\n",
    "        else:\n",
    "            merged_list.append('nan')\n",
    "        position_counter += 1\n",
    "    \n",
    "    return merged_list\n",
    "\n",
    "\n",
    "#Increases the length of a coordinate list in the event the list of names is longer\n",
    "def extend_columns(original_column, desired_length):\n",
    "    original_column.extend(['nan'] * desired_length)\n",
    "    extended_column = original_column[:desired_length]\n",
    "    return extended_column\n",
    "\n",
    "\n",
    "#Makes sure all the lists are the correct length, etc, before merging together\n",
    "def preamble_to_merging(site_column, site_length, column1, column2):\n",
    "    #creates lists for the two different columns\n",
    "    column1_list = df[column1].tolist()\n",
    "    column2_list = df[column2].tolist()\n",
    "    \n",
    "    #determine the length of each list... \n",
    "    column1_length = len(column1_list)\n",
    "    column2_length = len(column2_list)\n",
    "              \n",
    "    #If one/both the lists are shorter than the list of site names,\n",
    "    #we will need to extend them to comply with formatting\n",
    "    if column1_length < site_length:\n",
    "        column1_list = extend_columns(column1_list, site_length)\n",
    "    if column2_length < site_length:\n",
    "        column2_list = extend_columns(column2_list, site_length)\n",
    "    \n",
    "    #with the two lists the same size, we will merge them together\n",
    "    return merge_two_columns(site_column, column1_list, column2_list)\n",
    "\n",
    "\n",
    "#for optional inputs, set equal to none\n",
    "def extract_from_csv(site_column, coordinate_column1, coordinate_column2 = None):\n",
    "    #This acts as a basis for how long our coordinate lists should be\n",
    "    site_column_length = len(site_column)\n",
    "    \n",
    "    #If there is a second column for coordinate data, we will need to combine them before turning it into our final list\n",
    "    if coordinate_column2:\n",
    "        coordinate_list = preamble_to_merging(site_column, site_column_length, coordinate_column1, coordinate_column2)\n",
    "    #If there is only one column of latitude data, we will immediately create a list\n",
    "    else:\n",
    "        coordinate_list = df[coordinate_column1].tolist()\n",
    "    \n",
    "    return coordinate_list"
   ]
  },
  {
   "cell_type": "markdown",
   "metadata": {},
   "source": [
    "## Defining Main Function"
   ]
  },
  {
   "cell_type": "code",
   "execution_count": 3,
   "metadata": {},
   "outputs": [],
   "source": [
    "df = pd.read_csv('OldMediterranean.csv')\n",
    "site_list = df['Site'].tolist()\n",
    "\n",
    "latitude_list = extract_from_csv(site_list,'Latitude1','Latitude2')\n",
    "longitude_list = extract_from_csv(site_list,'Longitude1','Longitude2')"
   ]
  },
  {
   "cell_type": "markdown",
   "metadata": {},
   "source": [
    "## Now we see if the coordinates exist"
   ]
  },
  {
   "cell_type": "code",
   "execution_count": 4,
   "metadata": {},
   "outputs": [],
   "source": [
    "#checks if one or more of the coordinates is nan\n",
    "def is_nan(latitude, longitude):\n",
    "    if (latitude == 'nan' or longitude == 'nan'):\n",
    "        return True\n",
    "    return False\n"
   ]
  },
  {
   "cell_type": "code",
   "execution_count": 5,
   "metadata": {},
   "outputs": [],
   "source": [
    "#probably excessive, but we will be bouncing between lists\n",
    "temp_site_list = []\n",
    "temp_latitude_list = []\n",
    "temp_longitude_list = []\n",
    "\n",
    "counter = 0\n",
    "\n",
    "#If nan is false, we add the site name and coordinates to a new list\n",
    "for site in site_list:\n",
    "    if (is_nan(latitude_list[counter], longitude_list[counter]) == False):\n",
    "        temp_site_list.append(site)\n",
    "        temp_latitude_list.append(latitude_list[counter])\n",
    "        temp_longitude_list.append(longitude_list[counter])\n",
    "    counter += 1\n",
    "\n",
    "#give our old lists the correct data!\n",
    "site_list = temp_site_list\n",
    "latitude_list = temp_latitude_list\n",
    "longitude_list = temp_longitude_list"
   ]
  },
  {
   "cell_type": "markdown",
   "metadata": {},
   "source": [
    "This takes our rows for latitude and longitude and turns them into a list of strings. Now we can start accessing the characters"
   ]
  },
  {
   "cell_type": "markdown",
   "metadata": {},
   "source": [
    "### Code Segment Two"
   ]
  },
  {
   "cell_type": "markdown",
   "metadata": {},
   "source": [
    "Now, we need to look at the list of strings and remove the special characters... I think in the event there is more than one potential coordinate listed, we can't assume the characters separating the two will be the same for every instance so it will be best to remove them and then check if there are any numbers separated by spaces at the end\n",
    "\n",
    "OKAY, there are some instances where the coordinates are NOT in decimal format so we've got to figure out how to work with that -_-"
   ]
  },
  {
   "cell_type": "markdown",
   "metadata": {},
   "source": [
    "#### Changing to Decimal Format"
   ]
  },
  {
   "cell_type": "markdown",
   "metadata": {},
   "source": [
    "Alright, we're going to need to be able to isolate the coordinate in the incorrect data format, hold it's position in the spreadsheet, alter it, then place it back in position"
   ]
  },
  {
   "cell_type": "code",
   "execution_count": 19,
   "metadata": {},
   "outputs": [],
   "source": [
    "def decimal_coordinate_needs_to_be_converted(coordinate_list, key_value1, key_value2):\n",
    "    #holds the coordinates we need to convert from degree to decimal\n",
    "    coordinate_to_convert = []\n",
    "    #holds the position of what needs to be replaced\n",
    "    position_to_convert = []\n",
    "    \n",
    "    #the position being updated\n",
    "    counter = 0\n",
    "    \n",
    "    for coordinate in coordinate_list:\n",
    "        if key_value1 in coordinate or key_value2 in coordinate:\n",
    "            coordinate_to_convert.append(coordinate)\n",
    "            position_to_convert.append(counter)\n",
    "        counter += 1\n",
    "        \n",
    "    return coordinate_to_convert, position_to_convert\n",
    "\n",
    "def converter(coordinate):\n",
    "    temp = []\n",
    "    data = re.sub(r\"[^0-9.-]+\", ' ', coordinate)\n",
    "    for c in data.split():\n",
    "        try:\n",
    "            temp.append(float(c))\n",
    "        except ValueError:\n",
    "            pass\n",
    "    input = temp[0] + (temp[1]/60) + (temp[2]/3600)\n",
    "    return input\n",
    "\n",
    "def finalize_converted_coordinates(coordinate_list, key_value1, key_value2):\n",
    "    converted_list = []\n",
    "    \n",
    "    for coordinate in coordinate_list:\n",
    "        if key_value1 in coordinate:\n",
    "            converted_value = converter(coordinate)\n",
    "            converted_list.append(converted_value)\n",
    "        if key_value2 in coordinate:\n",
    "            converted_value = -1 * converter(coordinate)\n",
    "            converted_list.append(converted_value)\n",
    "        \n",
    "        return converted_list"
   ]
  },
  {
   "cell_type": "code",
   "execution_count": 20,
   "metadata": {},
   "outputs": [],
   "source": [
    "lat_to_convert, lat_counter =  decimal_coordinate_needs_to_be_converted(latitude_list, \"N\", \"S\")\n",
    "long_to_convert, long_counter =  decimal_coordinate_needs_to_be_converted(longitude_list, \"E\", \"W\")\n",
    "\n",
    "converted_lat = finalize_converted_coordinates(lat_to_convert, \"N\", \"S\")\n",
    "converted_long = finalize_converted_coordinates(long_to_convert, \"E\", \"W\")"
   ]
  },
  {
   "cell_type": "code",
   "execution_count": 21,
   "metadata": {},
   "outputs": [
    {
     "name": "stdout",
     "output_type": "stream",
     "text": [
      "[36.130875]\n"
     ]
    }
   ],
   "source": [
    "print(converted_lat)"
   ]
  },
  {
   "cell_type": "markdown",
   "metadata": {},
   "source": [
    "Alright! Now we've got our list of coordinates in the wrong data format... now all we need to do is convert\n",
    "\n",
    "In this experiment list, some of the characters separating the degrees/minutes/seconds are incorrect.. so I think it'll be best to replace special characters with spaces, change all mutlispaces to one space, and do the calculations based on that :)"
   ]
  },
  {
   "cell_type": "code",
   "execution_count": 8,
   "metadata": {},
   "outputs": [
    {
     "ename": "IndexError",
     "evalue": "list index out of range",
     "output_type": "error",
     "traceback": [
      "\u001b[0;31m---------------------------------------------------------------------------\u001b[0m",
      "\u001b[0;31mIndexError\u001b[0m                                Traceback (most recent call last)",
      "\u001b[0;32m<ipython-input-8-2ed378bfe6a8>\u001b[0m in \u001b[0;36m<module>\u001b[0;34m\u001b[0m\n\u001b[1;32m     15\u001b[0m \u001b[0;32mfor\u001b[0m \u001b[0mlatitude\u001b[0m \u001b[0;32min\u001b[0m \u001b[0mlat_to_convert\u001b[0m\u001b[0;34m:\u001b[0m\u001b[0;34m\u001b[0m\u001b[0;34m\u001b[0m\u001b[0m\n\u001b[1;32m     16\u001b[0m     \u001b[0;32mif\u001b[0m \u001b[0;34m\"N\"\u001b[0m \u001b[0;32min\u001b[0m \u001b[0mlatitude\u001b[0m\u001b[0;34m:\u001b[0m\u001b[0;34m\u001b[0m\u001b[0;34m\u001b[0m\u001b[0m\n\u001b[0;32m---> 17\u001b[0;31m         \u001b[0minput\u001b[0m \u001b[0;34m=\u001b[0m \u001b[0mconverter\u001b[0m\u001b[0;34m(\u001b[0m\u001b[0mcoordinate\u001b[0m \u001b[0;34m=\u001b[0m \u001b[0mlatitude\u001b[0m\u001b[0;34m)\u001b[0m\u001b[0;34m\u001b[0m\u001b[0;34m\u001b[0m\u001b[0m\n\u001b[0m\u001b[1;32m     18\u001b[0m         \u001b[0mconverted_lat\u001b[0m\u001b[0;34m.\u001b[0m\u001b[0mappend\u001b[0m\u001b[0;34m(\u001b[0m\u001b[0minput\u001b[0m\u001b[0;34m)\u001b[0m\u001b[0;34m\u001b[0m\u001b[0;34m\u001b[0m\u001b[0m\n\u001b[1;32m     19\u001b[0m     \u001b[0;32mif\u001b[0m \u001b[0;34m\"S\"\u001b[0m \u001b[0;32min\u001b[0m \u001b[0mlatitude\u001b[0m\u001b[0;34m:\u001b[0m\u001b[0;34m\u001b[0m\u001b[0;34m\u001b[0m\u001b[0m\n",
      "\u001b[0;32m<ipython-input-8-2ed378bfe6a8>\u001b[0m in \u001b[0;36mconverter\u001b[0;34m(coordinate)\u001b[0m\n\u001b[1;32m     10\u001b[0m         \u001b[0;32mexcept\u001b[0m \u001b[0mValueError\u001b[0m\u001b[0;34m:\u001b[0m\u001b[0;34m\u001b[0m\u001b[0;34m\u001b[0m\u001b[0m\n\u001b[1;32m     11\u001b[0m             \u001b[0;32mpass\u001b[0m\u001b[0;34m\u001b[0m\u001b[0;34m\u001b[0m\u001b[0m\n\u001b[0;32m---> 12\u001b[0;31m     \u001b[0minput\u001b[0m \u001b[0;34m=\u001b[0m \u001b[0mtemp\u001b[0m\u001b[0;34m[\u001b[0m\u001b[0;36m0\u001b[0m\u001b[0;34m]\u001b[0m \u001b[0;34m+\u001b[0m \u001b[0;34m(\u001b[0m\u001b[0mtemp\u001b[0m\u001b[0;34m[\u001b[0m\u001b[0;36m1\u001b[0m\u001b[0;34m]\u001b[0m\u001b[0;34m/\u001b[0m\u001b[0;36m60\u001b[0m\u001b[0;34m)\u001b[0m \u001b[0;34m+\u001b[0m \u001b[0;34m(\u001b[0m\u001b[0mtemp\u001b[0m\u001b[0;34m[\u001b[0m\u001b[0;36m2\u001b[0m\u001b[0;34m]\u001b[0m\u001b[0;34m/\u001b[0m\u001b[0;36m3600\u001b[0m\u001b[0;34m)\u001b[0m\u001b[0;34m\u001b[0m\u001b[0;34m\u001b[0m\u001b[0m\n\u001b[0m\u001b[1;32m     13\u001b[0m     \u001b[0;32mreturn\u001b[0m \u001b[0minput\u001b[0m\u001b[0;34m\u001b[0m\u001b[0;34m\u001b[0m\u001b[0m\n\u001b[1;32m     14\u001b[0m \u001b[0;34m\u001b[0m\u001b[0m\n",
      "\u001b[0;31mIndexError\u001b[0m: list index out of range"
     ]
    }
   ],
   "source": [
    "\n",
    "converted_lat = []\n",
    "converted_long = []\n",
    "\n"
   ]
  },
  {
   "cell_type": "markdown",
   "metadata": {},
   "source": [
    "Now that we habve the converted coordinate points it is time to use them to replace the main list..."
   ]
  },
  {
   "cell_type": "code",
   "execution_count": null,
   "metadata": {},
   "outputs": [],
   "source": [
    "counter = 0\n",
    "for position in latCounter:\n",
    "    latList[position] = str(convertedLat[counter])\n",
    "    counter += 1\n",
    "\n",
    "counter = 0\n",
    "for position in longCounter:\n",
    "    longList[position] = str(convertedLong[counter])\n",
    "    counter += 1\n"
   ]
  },
  {
   "cell_type": "markdown",
   "metadata": {},
   "source": [
    "#### Deleting extra characters"
   ]
  },
  {
   "cell_type": "code",
   "execution_count": null,
   "metadata": {},
   "outputs": [],
   "source": [
    "cleanLatList = []\n",
    "cleanLongList = []\n",
    "cleanSiteList = []\n",
    "\n",
    "for latitude in latList:\n",
    "    cleanLatList.append(re.sub(r\"[^0-9.-]+\", ' ', latitude))\n",
    "    \n",
    "for longitude in longList:\n",
    "    cleanLongList.append(re.sub(r\"[^0-9.-]+\", ' ', longitude))\n",
    "\n",
    "for site in siteList:\n",
    "    cleanSiteList.append(site.replace(\",\", \" /\"))"
   ]
  },
  {
   "cell_type": "markdown",
   "metadata": {},
   "source": [
    "The print statements below verify our converted coordinates are in the master list"
   ]
  },
  {
   "cell_type": "code",
   "execution_count": null,
   "metadata": {},
   "outputs": [],
   "source": [
    "print(cleanLongList[176])\n",
    "print(cleanLongList[379])\n",
    "\n",
    "print(cleanLatList[176])\n",
    "print(cleanLatList[379])\n",
    "\n",
    "print(cleanSiteList[176])\n",
    "print(cleanSiteList[379])\n",
    "print(cleanSiteList[334])"
   ]
  },
  {
   "cell_type": "markdown",
   "metadata": {},
   "source": [
    "### Okey-dokey, I was hoping we could just look at the data point with "
   ]
  },
  {
   "cell_type": "code",
   "execution_count": null,
   "metadata": {},
   "outputs": [],
   "source": [
    "for point in cleanLongList:\n",
    "    if \" \" in point.strip():\n",
    "        print(point)"
   ]
  },
  {
   "cell_type": "markdown",
   "metadata": {},
   "source": [
    "### Code Segment Three"
   ]
  },
  {
   "cell_type": "markdown",
   "metadata": {},
   "source": [
    "Alright, here we are going to make a brand new csv file with all our data points ready to be uploaded into a map :)"
   ]
  },
  {
   "cell_type": "code",
   "execution_count": null,
   "metadata": {},
   "outputs": [],
   "source": [
    "import csv\n",
    "\n",
    "counter = 0\n",
    "with open('EarlyModernPostClean.csv', 'w', newline='') as csvfile:\n",
    "    filewriter = csv.writer(csvfile, delimiter=',',quotechar='|', quoting=csv.QUOTE_MINIMAL)\n",
    "    filewriter.writerow(['Site', 'Latitude', 'Longitude'])\n",
    "    for site in cleanSiteList:\n",
    "        filewriter.writerow([cleanSiteList[counter], cleanLatList[counter], cleanLongList[counter]])\n",
    "        counter += 1\n",
    "        "
   ]
  },
  {
   "cell_type": "code",
   "execution_count": null,
   "metadata": {},
   "outputs": [],
   "source": [
    "df2 = pd.read_csv('EarlyModernPostClean.csv')\n",
    "\n",
    "df2.head()"
   ]
  },
  {
   "cell_type": "code",
   "execution_count": null,
   "metadata": {},
   "outputs": [],
   "source": []
  }
 ],
 "metadata": {
  "kernelspec": {
   "display_name": "Python 3",
   "language": "python",
   "name": "python3"
  },
  "language_info": {
   "codemirror_mode": {
    "name": "ipython",
    "version": 3
   },
   "file_extension": ".py",
   "mimetype": "text/x-python",
   "name": "python",
   "nbconvert_exporter": "python",
   "pygments_lexer": "ipython3",
   "version": "3.7.3"
  }
 },
 "nbformat": 4,
 "nbformat_minor": 2
}
