{
 "cells": [
  {
   "cell_type": "markdown",
   "metadata": {},
   "source": [
    "## Cleaning Coordinate Data"
   ]
  },
  {
   "cell_type": "markdown",
   "metadata": {},
   "source": [
    "This notebook will take in the name of a csv file, extract the Site Names, Latitude, and Longitude. It will then clean the data...\n",
    "\n",
    "# IMPORTANT: Before converting to csv, replace all commas with a slash\n",
    "\n",
    "#### Cleaning Site Names:\n",
    "* Replaces any commas with a '/' so as to not add an extra element to our csv file\n",
    "\n",
    "#### Cleaning Coordinates\n",
    "* Converts any coordinates in degree format to decimal format\n",
    "* Removes any special characterse\n",
    "* In the event there is more than one coordinate in a latitude/longitude cell, it will randomly select one as the official coordinate per Dr. Castro's instructions\n",
    "\n",
    "After all the data has been cleaned, it will output a new csv file formatted for use in Google Maps\n"
   ]
  },
  {
   "cell_type": "markdown",
   "metadata": {},
   "source": [
    "### Imports\n",
    "\n",
    "Pandas allows us to read our csv files\n",
    "\n",
    "Re allows us to make regex functions. In this notebook, we use the regex functions to remove all special characters (apart from '.' and '-') from our coordinates"
   ]
  },
  {
   "cell_type": "code",
   "execution_count": 1,
   "metadata": {},
   "outputs": [],
   "source": [
    "import pandas as pd\n",
    "import re"
   ]
  },
  {
   "cell_type": "markdown",
   "metadata": {},
   "source": [
    "### Extracting from csv file\n",
    "\n",
    "This function will take in the name of a file in csv format, and put the data in the \"Site\" \"Latitude\" and \"Longitude\" columns into lists...\n",
    "\n",
    "#### Cleaning the lists\n",
    "* We will need to delete every row that is missing coordinate data. This can either be from the cells being empty, or holding fake coordinates as placeholders (not in the constraints of coordinate range)\n",
    "    * Latitudes only range from: -90 to 90\n",
    "    * Longitudes only range from: -180 to 180"
   ]
  },
  {
   "cell_type": "markdown",
   "metadata": {},
   "source": [
    "## Defining Helper Functions"
   ]
  },
  {
   "cell_type": "code",
   "execution_count": 14,
   "metadata": {},
   "outputs": [],
   "source": [
    "#See if the coordinates fall within the acceptable range\n",
    "def is_legit_latitude(latitude):\n",
    "    if -90 <= latitude <= 90:\n",
    "        return true\n",
    "    return false\n",
    "\n",
    "def is_legit_longitude(longitude):\n",
    "    if -180 <= longitude <= 180:\n",
    "        return true\n",
    "    return false\n",
    "\n",
    "\n",
    "#Merging columns in the event there is more than one latitude of longitude column\n",
    "def merge_two_columns(site_column, column1, column2):\n",
    "    merged_list = []\n",
    "    position_counter = 0\n",
    "    \n",
    "    for site in site_column:\n",
    "        if (str(column1[position_counter]) != 'nan'):\n",
    "            merged_list.append(column1[position_counter])\n",
    "        elif (str(column2[position_counter]) != 'nan'):\n",
    "            merged_list.append(column2[position_counter])\n",
    "        else:\n",
    "            merged_list.append('nan')\n",
    "        position_counter += 1\n",
    "    \n",
    "    return merged_list\n",
    "\n",
    "\n",
    "#Increases the length of a coordinate list in the event the list of names is longer\n",
    "def extend_columns(original_column, desired_length):\n",
    "    original_column.extend([None] * desired_length)\n",
    "    extended_column = original_column[:desired_length]\n",
    "    return extended_column\n",
    "\n",
    "\n",
    "def preamble_to_merging(site_column, site_length, column1, column2):\n",
    "    #creates lists for the two different columns\n",
    "    column1_list = df[column1].tolist()\n",
    "    column2_list = df[column2].tolist()\n",
    "    \n",
    "    #determine the length of each list... \n",
    "    column1_length = len(column1_list)\n",
    "    column2_length = len(column2_list)\n",
    "              \n",
    "    #If one/both the lists are shorter than the list of site names,\n",
    "    #we will need to extend them to comply with formatting\n",
    "    if column1_length < site_length:\n",
    "        column1_list = extend_columns(column1_list, site_length)\n",
    "    if column2_length < site_length:\n",
    "        column2_list = extend_columns(column2_list, site_length)\n",
    "    \n",
    "    #with the two lists the same size, we will merge them together\n",
    "    return merge_two_columns(site_column, column1_list, column2_list)"
   ]
  },
  {
   "cell_type": "markdown",
   "metadata": {},
   "source": [
    "## Defining Main Function"
   ]
  },
  {
   "cell_type": "code",
   "execution_count": 31,
   "metadata": {},
   "outputs": [],
   "source": [
    "#for optional inputs, set equal to none\n",
    "def extract_from_csv(site_column, coordinate_column1, coordinate_column2 = None):\n",
    "    #This acts as a basis for how long our coordinate lists should be\n",
    "    site_column_length = len(site_column)\n",
    "    \n",
    "    \n",
    "    #If there is a second column for coordinate data, we will need to combine them before turning it into our final list\n",
    "    if coordinate_column2:\n",
    "        coordinate_list = preamble_to_merging(site_column, site_column_length, coordinate_column1, coordinate_column2)\n",
    "    #If there is only one column of latitude data, we will immediately create a list\n",
    "    else:\n",
    "        coordinate_list = df[coordinate_column1].tolist()\n",
    "    \n",
    "    return coordinate_list"
   ]
  },
  {
   "cell_type": "code",
   "execution_count": 34,
   "metadata": {},
   "outputs": [
    {
     "name": "stdout",
     "output_type": "stream",
     "text": [
      "Uluburun ,  36° 7'51.15\"N  29°40'58.54\"E\n",
      "Cape Gelidonya ,  36°12'24.72\"N  30°24'15.38\"E\n",
      "Zambratija ,  45°28'21.26\"N  13°30'36.35\"E\n",
      "Mazarron 1 , 37°33'33.7\"N  1°16'09.6\"W\n",
      "Mazarron 2 , 37°33'34.3\"N  1°16'04.7\"W\n",
      "Giglio A , 42°22'05.9\"N  10°52'37.5\"E\n",
      "Pabuc Burnu , 36.976556 27.562942\n",
      "Cala Sant Vincenc ,  39°55'19.18\"N   3° 3'27.56\"E\n",
      "Bon Porte 1  , 43°10'03.2\"N  6°38'49.2\"E\n",
      "Jules Verne 7 , 43°17'59.9\"N 5°21'25.1\"E\n",
      "Jules Verne 9 , 43°17'59.0\"N  5°21'26.4\"E\n",
      "Cesar 1 , 43°17'59.6\"N  5°21'28.1\"E\n",
      "Grand Ribaud F , 37°02'28.3\"N  14°16'46.0\"E\n",
      "Gela 1 , 37°02'33.1\"N  14°16'47.8\"E\n",
      "Golo ,  42°31'32.66\"N   9°31'44.59\"E\n",
      "Heracleion 17 ,  31°20'0.16\"N  30° 7'42.05\"E\n",
      "Gela 2 , 37°02'25.3\"N  14°15'24.5\"E\n",
      "Maagan Mikhael , 32°33'21.1\"N  34°54'14.5\"E\n",
      "Osiris boat-Heracleion 11 ,  31°19'45.70\"N  30° 7'54.50\"E\n",
      "Binissafuller , 39°49'25.4\"N  4°13'06.7\"E\n",
      "Mazotos ,  34°47'18.00\"N  33°31'33.79\"E\n",
      "Kyrenia , 35°20'49.9\"N  33°19'14.4\"E\n",
      "Eregli E ,  41°29'3.07\"N  31° 9'43.64\"E\n",
      "Marsala 1 , 37°52'16.0\"N  12°26'05.5\"E\n",
      "Marsala 2 , 37°52'16.0\"N  12°26'05.5\"E\n",
      "Tour Fondue , 43°01'31.8\"N  6°09'21.3\"E\n",
      "Tour dAgnello ,  43° 0'37.83\"N   9°25'53.48\"E\n",
      "Pisa Hellenistic Wreck ,  43°43'27.17\"N  10°23'15.47\"E\n",
      "Chretienne C ,  43°25'30.61\"N   6°53'19.13\"E\n",
      "Baie de Briande ,  43° 9'53.55\"N   6°37'54.65\"E\n",
      "Jarre 4 ,  43°11'45.62\"N   5°21'41.74\"E\n",
      "Roche Fouras ,  43°11'44.52\"N   6°41'16.70\"E\n",
      "Caveaux I  ,  43°15'49.17\"N   5°17'6.37\"E\n",
      "Jeaune Garde B ,  43° 0'24.17\"N   6°12'11.92\"E\n",
      "Cavanella dAdige ,  45° 7'35.14\"N  12°14'14.78\"E\n",
      "Cavaliere ,  43° 8'47.77\"N   6°25'27.64\"E\n",
      "Illa de Conills/Cabrera VII ,  39°10'30.76\"N   2°57'43.63\"E\n",
      "Colonia Sant Jordi ,  39°18'55.81\"N   3° 0'3.76\"E\n",
      "Palamós/Formigues 1 ,  41°51'48.04\"N   3°11'19.60\"E\n",
      "Cap de l’Esterel ,  43° 1'54.44\"N   6°10'41.60\"E\n",
      "Cap Gros  , 43°32'32.5\"N  7°07'26.2\"E\n",
      "Cap Benat ,  43° 4'4.34\"N   6°21'8.43\"E\n",
      "Miladou , 43°01'04.5\"N  6°22'37.4\"E\n",
      "Pointe Pomegues  , 43°16'18.5\"N  5°18'07.1\"E\n",
      "Madhia , 35°31'54.9\"N  11°07'28.1\"E\n",
      "Titan  , 43°02'59.8\"N  6°31'31.3\"E\n",
      "Dramont A  , 43°23'56.4\"N  6°50'37.4\"E\n",
      "Chrétienne A ,  43°25'24.66\"N   6°53'39.82\"E\n",
      "Madrague de Giens  , 43°02'29.1\"N  6°05'37.4\"E\n",
      "Dramont C  , 43°24'34.2\"N  6°50'53.0\"E\n",
      "Arles-Rhone 2 ,  43°40'25.89\"N   4°36'47.27\"E\n",
      "Arles-Rhone 5 ,  43°40'31.88\"N   4°36'56.22\"E\n",
      "Plane I  ,  43°10'58.19\"N   5°22'54.60\"E\n",
      "SM 2  ,  43°26'40.06\"N   4°23'6.38\"E\n",
      "Planier 3 ,  43.198699°   5.228740°\n",
      "Cala Cativa ,  42°20'53.85\"N   3°12'46.15\"E\n",
      "Formigues 2 ,  41°51'34.20\"N   3°11'57.62\"E\n",
      "Aquilea ,  45°45'55.28\"N  13°20'11.45\"E\n",
      "Cap Béar 3 ,  42°30'54.52\"N   3° 8'52.97\"E\n",
      "Tradelière  ,  43°31'16.93\"N   7° 4'27.95\"E\n",
      "Fos 1  , 43°24'49.9\"N  4°56'53.5\"E\n",
      "Sud Perduto 2 ,  41°21'60.00\"N   9°18'21.93\"E\n",
      "Arles-Rhône 6 ,  43°40'32.63\"N   4°36'57.96\"E\n",
      "Rabiou  ,  43°17'0.69\"N   6°40'45.24\"E\n",
      "Cap del Vol  ,  42°21'41.12\"N   3°10'31.41\"E\n",
      "Ladispoli ,  41°56'37.56\"N  12° 4'33.98\"E\n",
      "Grand Ribaud D ,  43° 1'17.17\"N   6° 8'50.16\"E\n",
      "Padua ,  45.410928°  11.877503°\n",
      "Comacchio ,  44°42'46.87\"N  12° 9'27.81\"E\n",
      "Pula 1 ,  44.866904°  13.845123°\n",
      "Pula 2 ,  44.866904°  13.845123°\n",
      "Sud Lavezzi 3 ,  41°19'25.64\"N   9°16'33.10\"E\n",
      "Pisa B ,  43°43'27.17\"N  10°23'15.47\"E\n",
      "Ouest Giraglia 2 ,  43° 1'16.18\"N   9°23'48.41\"E\n",
      "Perduto 1 ,  41°22'11.18\"N   9°18'14.82\"E\n",
      "Dramont I , 43º24'36.0'' N 06º50.36.0 E\n",
      "Caska 1 ,  44°32'53.45\"N  14°55'23.39\"E\n",
      "Caska 2 ,  44°32'56.06\"N  14°55'12.22\"E\n",
      "Caska 3 ,  44°32'56.06\"N  14°55'12.22\"E\n",
      "Caska 4 ,  44.547548°  14.919873°\n",
      "Lipe/Ljubljanica ,  45°59'23.47\"N  14°26'49.43\"E\n",
      "Jules Verne 5 ,  43°17'47.48\"N   5°22'7.28\"E\n",
      "Jules Verne 6 ,  43°17'47.48\"N   5°22'7.28\"E\n",
      "Conque des Salins ,  43°27'29.46\"N   3°40'33.80\"E\n",
      "Pisa C ,  43°43'27.17\"N  10°23'15.47\"E\n",
      "Pisa E ,  43°43'27.17\"N  10°23'15.47\"E\n",
      "Giraglia 1 , 43º00'53.4'' N 9º23'42.2''E\n",
      "Sud Lavezzi 2 ,  41°19'21.17\"N   9°16'44.75\"E\n",
      "Nemi 1 ,  41°43'10.20\"N  12°42'0.36\"E\n",
      "Nemi 2 ,  41°43'8.36\"N 12°41'59.65\"E\n",
      "Kinneret ,  32°43'9.37\"N  35°34'20.50\"E\n",
      "Caesarea ,  32°30'25.06\"N  34°53'33.46\"E\n",
      "Stella 1 ,  45°47'29.41\"N  13° 4'55.09\"E\n",
      "Ilot Barthelemy B , 43º26'6'' N 06°54'8'' E\n",
      "SM 24 ,  43°26'32.74\"N   4°23'53.80\"E\n",
      "Baie de l’Amitié/Battus  ,  43°16'26.67\"N   3°28'12.53\"E\n",
      "Nin 1 ,  44.230688°  15.155692°\n",
      "Sud Lavezzi 5 ,  41°19'29.12\"N   9°15'40.44\"E\n",
      "Calanque de l´Âne  ,  43°16'5.09\"N  5°18'2.38\"E\n",
      "Napoli A  ,  40°50'22.05\"N  14°15'12.35\"E\n",
      "Arles-Rhône 3 ,  43°40'36.90\"N   4°37'3.82\"E\n",
      "Diano Marina  ,  43°54'14.78\"N   8° 5'20.43\"E\n",
      "Porto Cristo  ,  39°32'27.70\"N   3°20'13.40\"E\n",
      "Punta Nati ,  40° 3'44.84\"N   3°48'52.09\"E\n",
      "Olbia 1 ,  40.913372°   9.507514°\n",
      "Olbia 2 ,  40.912928°   9.507566°\n",
      "Bou Ferrer ,  38°29'40.70\"N   0°12'54.94\"O\n",
      "Albufereta I ,  38°21'20.92\"N   0°26'14.68\"O\n",
      "Alexandria Antirhodos Island ,  31°12'16.28\"N  29°53'44.62\"E\n",
      "Pisa H  ,  43°43'27.17\"N  10°23'15.47\"E\n",
      "Pisa G ,  43°43'27.17\"N  10°23'15.47\"E\n",
      "Herculaneum 1 ,  40°48'18.35\"N  14°20'48.07\"E\n",
      "Herculaneum 2 ,  40°48'18.35\"N  14°20'48.07\"E\n",
      "Mainz 6 ,  49°59'50.17\"N   8°16'39.69\"E\n",
      "Pisa F ,  43°43'27.17\"N  10°23'15.47\"E\n",
      "Pisa A ,  43°43'27.17\"N  10°23'15.47\"E\n",
      "Fiumicino 5 ,  41°47'12.48\"N  12°15'24.75\"E\n",
      "Cala en Busquets 1 ,  39°59'58.16\"N   3°49'41.51\"E\n",
      "Jules Verne 3 ,  43°17'47.48\"N   5°22'7.28\"E\n",
      "Jules Verne 4 ,  43°17'47.48\"N   5°22'7.28\"E\n",
      "Arles-Rhone 7 ,  43°40'37.30\"N   4°37'4.57\"E\n",
      "Arles-Rhone 8 ,  43°40'37.40\"N   4°37'4.99\"E\n",
      "Tiboulen de Maire  ,  43°13'14.27\"N   5°19'24.95\"E\n",
      "Saint Gervais 3  , 43°24'09.9\"N  4°55'15.7\"E\n",
      "Port-Vendres 3 ,  42°31'10.76\"N   3° 6'53.31\"E\n",
      "Monfalcone ,  45°47'56.60\"N  13°32'41.71\"E\n",
      "Napoli C ,  40°50'22.05\"N  14°15'12.35\"E\n",
      "Grado  ,  45°40'23.87\"N  13°23'4.03\"E\n",
      "Anse des Laurons 2 ,  43°21'15.56\"N   5° 1'27.10\"E\n",
      "Napoli B ,  40°50'22.05\"N  14°15'12.35\"E\n",
      "Monaco , 43°43'49.6\"N  7°25'33.3\"E\n",
      "Bourse  , 43°17'57.8\"N  5°21'14.1\"E\n",
      "Musee des Docks ,  43°17'46.81\"N   5°22'4.61\"E\n",
      "Medes 6 ,  43° 2'22.35\"N   6°17'0.51\"E\n",
      "Fiumicino 4\n",
      " ,  41°47'12.48\"N  12°15'24.75\"E\n",
      "Isola Sacra 2 ,  41°45'25.20\"N  12°16'54.09\"E\n",
      "Anse des Laurons 1  ,  43°21'16.10\"N   5° 1'30.07\"E\n",
      "Jules Verne 8 ,  43°17'47.48\"N   5°22'7.28\"E\n",
      "Isola Sacra 1 ,  41°45'25.20\"N  12°16'54.09\"E\n",
      "Mainz 3 ,  50° 0'7.66\"N   8°16'28.63\"E\n",
      "Pomègues  ,  43°16'17.17\"N   5°18'6.32\"E\n",
      "Anse des Laurons 3  ,  43°21'11.06\"N   5° 1'27.45\"E\n",
      "County Hall , 51º 30' N  0º 10' W\n",
      "Anse des Laurons 4  ,  43°21'8.92\"N   5° 1'26.36\"E\n",
      "Pointe de la Luque B , 43°16'14.8\"N  5°18'20.1\"E\n",
      "Yassiada 2 , 36°59'58.3\"N  27°14'14.7\"E\n",
      "Mainz 2 ,  50° 0'8.14\"N   8°16'28.17\"E\n",
      "Dramont F , 43°24'14.5\"N  6°50'56.0\"E\n",
      "Pakostane ,  43°54'16.72\"N  15°30'16.96\"E\n",
      "Fiumicino 1 ,  41°47'12.48\"N  12°15'24.75\"E\n",
      "Fiumicino 3 ,  41°47'12.48\"N  12°15'24.75\"E\n",
      "Fiumicino 2 ,  41°47'12.48\"N  12°15'24.75\"E\n",
      "Dor D ,  32°36'24.88\"N  34°54'51.73\"E\n",
      "Port Vendres 1 ,  42°31'11.60\"N   3° 6'45.43\"E\n",
      "Mainz 1 ,  50° 0'5.51\"N   8°16'30.65\"E\n",
      "Mainz 5 ,  50° 0'8.96\"N   8°16'28.12\"E\n",
      "Mainz 4 ,  50° 0'7.40\"N   8°16'28.72\"E\n",
      "Yenikapi 34 , 41°00'21.0\"N  28°57'01.1\"E\n",
      "Yenikapi 35 , 41°00'19.1\"N  28°57'01.5\"E\n",
      "Dramont E , 43°24'45\"N  6°50'11\"E\n",
      "Yenikapi 22  , 41°00'20.2\"N  28°57'03.8\"E\n",
      "Yenikapi 26  , 41°00'20.3\"N  28°57'02.2\"E\n",
      "Mandirac 1 ,  43.128970°   3.019653°\n",
      "Parco di Teodorico ,  44°25'34.28\"N  12°12'29.49\"E\n",
      "Tantura A ,  32°36'31.63\"N  34°54'56.19\"E\n",
      "Cervia ,  44.263229°  12.357070°\n",
      "Pisa D ,  43°43'27.17\"N  10°23'15.47\"E\n",
      "Dor 2001/1 ,  32°36'30.13\"N  34°54'55.14\"E\n",
      "Dor 2006 ,  32°36′ 01″ N  34°54′ 55″ E\n",
      "Port Berteau 2 ,  45°46'34.12\"N   0°37'33.37\"W\n",
      "Yassiada 1 , 36°59'58.3\"N  27°14'14.7\"E\n",
      "Pantano Longarini ,  36°42'19.43\"N  15° 0'3.74\"E\n",
      "Yenikapi 11  , 41°00'15.0\"N  28°56'47.7\"E\n",
      "Tantura E ,  32°36'31\"N  34°54'56\"E\n",
      "St. Gervais 2 , 43°25'11.9\"N 4°54'42.0\"E\n",
      "Tantura F ,  32°36'30.58\"N  34°54'53.99\"E\n",
      "Yenikapi 17 , 41°00'21.0\"N  28°57'11.0\"E\n",
      "Yenikapi 3 , 41°00'19.2\"N  28°57'11.3\"E\n",
      "Yenikapi 27  , 41°00'21.1\"N  28°57'05.6\"E\n",
      "Yenikapi 28 , 41°00'20.9\"N  28°57'04.8\"E\n",
      "Yenikapi 12  , 41°00'19.3\"N  28°57'03.5\"E\n",
      "Yenikapi 20  , 41°00'21.7\"N  28°57'11.3\"E\n",
      "Yenikapi 13  , 41°00'19.5\"N  28°57'01.1\"E\n",
      "Yenikapi 19  , 41°00'21.7\"N  28°57'10.8\"E\n",
      "Yenikapi 10 , 41°00'22.9\"N  28°57'09.2\"E\n",
      "Yenikapi 15 , 41°00'20.5\"N  28°57'10.7\"E\n",
      "Yenikapi 16  , 41°00'21.2\"N  28°57'09.5\"E\n",
      "Yenikapi 29 , 41°00'20.4\"N  28°57'10.9\"E\n",
      "Yenikapi 30  , 41°00'17.1\"N  28°57'00.5\"E\n",
      "Yenikapi 32 , 41°00'21.5\"N  28°57'03.8\"E\n",
      "Yenikapi 23 , 41°00'19.0\"N  28°57'00.8\"E\n",
      "Tantura B ,  32°36'32.26\"N  34°54'56.23\"E\n",
      "Yenikapi 14  , 41°00'17.1\"N  28°56'59.7\"E\n",
      "Yenikapi 21  , 41°00'19.5\"N  28°57'02.0\"E\n",
      "Yenikapi 31 , 41°00'19.0\"N  28°56'58.3\"E\n",
      "Yenikapi 2 , 41°00'18.3\"N  28°57'08.1\"E\n",
      "Bozburun , 36°43'19.8\"N  28°06'10.7\"E\n",
      "Bataiguier , 43°31'26.8\"N  7°02'18.3\"E\n",
      "Agay A , 43°24'58.1\"N 6°51'40.0\"E\n",
      "Agay B ,  43.412880°   6.859982°\n",
      "Esteou ,  43.184609°   5.389459°\n",
      "Yenikapi 25 , 41°00'22.5\"N  28°57'09.2\"E\n",
      "Yenikapi 24  , 41°00'19.4\"N  28°57'08.3\"E\n",
      "Yenikapi 36 , 41°00'13.5\"N  28°56'59.8\"E\n",
      "Plaza Nueva boat ,  37°23'18.20\"N   5°59'43.94\"O\n",
      "Yenikapi 1 , 41°00'18.5\"N  28°57'08.0\"E\n",
      "Yenikapi 4 , 41°00'20.9\"N  28°57'09.2\"E\n",
      "Yenikapi 5 , 41°00'20.9\"N  28°57'09.7\"E\n",
      "Yenikapi 6 , 41°00'21.5\"N  28°57'08.4\"E\n",
      "Yenikapi 7 , 41°00'21.9\"N  28°57'09.1\"E\n",
      "Yenikapi 8 , 41°00'17.7\"N  28°57'05.6\"E\n",
      "Yenikapi 9 , 41°00'21.4\"N  28°57'06.5\"E\n",
      "Yenikapi 18 , 41°00'21.0\"N  28°57'11.6\"E\n",
      "Serce Limani  , 36°34'55.3\"N  28°04'15.2\"E\n",
      "Precenicco ,  45°47'9.90\"N  13° 4'45.70\"E\n",
      "Sisak ,  45.488587°  16.369855°\n",
      "Lido de Venice ,  45.342062°  12.329905°\n",
      "Pomposa , 44.846606°  12.179127°\n",
      "Corte Cavanella 1 ,  45.037559°  12.174104°\n",
      "Toulon 1 ,  43.120240°   5.937979°\n",
      "Toulon 2 Horeia ,  43.120276°   5.937531°\n",
      "Olbia 3 ,  40.912354°   9.507531°\n",
      "Olbia 4 ,  40.911741°   9.507514°\n",
      "Olbia 5 ,  40.913515°   9.509241°\n",
      "Olbia 6 ,  40.912823°   9.509172°\n",
      "Olbia 7 ,  40.912158°   9.509154°\n",
      "Phanagoria  ,  45.278852° 36.956561°\n",
      "Grand Congloue 1 ,  43°10'36.77\"N   5°24'0.37\"E\n",
      "Grand Congloue 2 ,  43°10'36.77\"N   5°24'0.37\"E\n",
      "Corte Cavanella 2 ,  45.037559°  12.174104°\n",
      "Antibes ,  43.583415°   7.126182°\n",
      "Nin 2 ,  44.230687°  15.155384°\n",
      "Nin 3 , nan nan\n",
      "Mal di Ventre  , nan nan\n"
     ]
    }
   ],
   "source": [
    "df = pd.read_csv('OldMediterranean.csv')\n",
    "site_list = df['Site'].tolist()\n",
    "\n",
    "latitude_list = extract_from_csv(site_list,'Latitude1','Latitude2')\n",
    "longitude_list = extract_from_csv(site_list,'Longitude1','Longitude2')\n",
    "\n",
    "counter = 0\n",
    "\n",
    "for element in site_list:\n",
    "    print(element, \",\", latitude_list[counter], longitude_list[counter])\n",
    "    counter += 1"
   ]
  },
  {
   "cell_type": "code",
   "execution_count": null,
   "metadata": {},
   "outputs": [],
   "source": []
  },
  {
   "cell_type": "code",
   "execution_count": null,
   "metadata": {},
   "outputs": [],
   "source": []
  },
  {
   "cell_type": "markdown",
   "metadata": {},
   "source": [
    "This takes our rows for latitude and longitude and turns them into a list of strings. Now we can start accessing the characters"
   ]
  },
  {
   "cell_type": "markdown",
   "metadata": {},
   "source": [
    "### Code Segment Two"
   ]
  },
  {
   "cell_type": "markdown",
   "metadata": {},
   "source": [
    "Now, we need to look at the list of strings and remove the special characters... I think in the event there is more than one potential coordinate listed, we can't assume the characters separating the two will be the same for every instance so it will be best to remove them and then check if there are any numbers separated by spaces at the end\n",
    "\n",
    "OKAY, there are some instances where the coordinates are NOT in decimal format so we've got to figure out how to work with that -_-"
   ]
  },
  {
   "cell_type": "markdown",
   "metadata": {},
   "source": [
    "#### Changing to Decimal Format"
   ]
  },
  {
   "cell_type": "markdown",
   "metadata": {},
   "source": [
    "Alright, we're going to need to be able to isolate the coordinate in the incorrect data format, hold it's position in the spreadsheet, alter it, then place it back in position"
   ]
  },
  {
   "cell_type": "code",
   "execution_count": null,
   "metadata": {},
   "outputs": [],
   "source": [
    "latToConvert = []\n",
    "longToConvert = []\n",
    "\n",
    "latCounter = []\n",
    "longCounter = []\n",
    "\n",
    "counter = 0\n",
    "for latitude in latList:\n",
    "    if \"N\" in latitude or \"S\" in latitude:\n",
    "        latToConvert.append(latitude)\n",
    "        latCounter.append(counter)\n",
    "    counter += 1\n",
    "    \n",
    "counter = 0\n",
    "for longitude in longList:\n",
    "    if \"E\" in longitude or \"W\" in longitude:\n",
    "        longToConvert.append(longitude)\n",
    "        longCounter.append(counter)\n",
    "    counter += 1"
   ]
  },
  {
   "cell_type": "code",
   "execution_count": null,
   "metadata": {},
   "outputs": [],
   "source": [
    "print(latToConvert)\n",
    "print(latCounter)\n",
    "\n",
    "print(longToConvert)\n",
    "print(longCounter)"
   ]
  },
  {
   "cell_type": "markdown",
   "metadata": {},
   "source": [
    "Alright! Now we've got our list of coordinates in the wrong data format... now all we need to do is convert\n",
    "\n",
    "In this experiment list, some of the characters separating the degrees/minutes/seconds are incorrect.. so I think it'll be best to replace special characters with spaces, change all mutlispaces to one space, and do the calculations based on that :)"
   ]
  },
  {
   "cell_type": "code",
   "execution_count": null,
   "metadata": {},
   "outputs": [],
   "source": [
    "convertedLat = []\n",
    "convertedLong = []\n",
    "\n",
    "def converter(coordinate):\n",
    "    temp = []\n",
    "    data = re.sub(r\"[^0-9.-]+\", ' ', coordinate)\n",
    "    for c in data.split():\n",
    "        try:\n",
    "            temp.append(float(c))\n",
    "        except ValueError:\n",
    "            pass\n",
    "    input = temp[0] + (temp[1]/60) + (temp[2]/3600)\n",
    "    return input\n",
    "\n",
    "for latitude in latToConvert:\n",
    "    if \"N\" in latitude:\n",
    "        input = converter(coordinate = latitude)\n",
    "        convertedLat.append(input)\n",
    "    if \"S\" in latitude:\n",
    "        input = -1 * converter(coordinate = latitude)\n",
    "        convertedLat.append(input)\n",
    "print(convertedLat)\n",
    "\n",
    "for longitude in longToConvert:\n",
    "    if \"E\" in longitude:\n",
    "        input = converter(coordinate = longitude)\n",
    "        convertedLong.append(input)\n",
    "    if \"W\" in longitude:\n",
    "        input = -1 * converter(coordinate = longitude)\n",
    "        convertedLong.append(input)\n",
    "print(convertedLong)"
   ]
  },
  {
   "cell_type": "markdown",
   "metadata": {},
   "source": [
    "Now that we habve the converted coordinate points it is time to use them to replace the main list..."
   ]
  },
  {
   "cell_type": "code",
   "execution_count": null,
   "metadata": {},
   "outputs": [],
   "source": [
    "counter = 0\n",
    "for position in latCounter:\n",
    "    latList[position] = str(convertedLat[counter])\n",
    "    counter += 1\n",
    "\n",
    "counter = 0\n",
    "for position in longCounter:\n",
    "    longList[position] = str(convertedLong[counter])\n",
    "    counter += 1\n"
   ]
  },
  {
   "cell_type": "markdown",
   "metadata": {},
   "source": [
    "#### Deleting extra characters"
   ]
  },
  {
   "cell_type": "code",
   "execution_count": null,
   "metadata": {},
   "outputs": [],
   "source": [
    "cleanLatList = []\n",
    "cleanLongList = []\n",
    "cleanSiteList = []\n",
    "\n",
    "for latitude in latList:\n",
    "    cleanLatList.append(re.sub(r\"[^0-9.-]+\", ' ', latitude))\n",
    "    \n",
    "for longitude in longList:\n",
    "    cleanLongList.append(re.sub(r\"[^0-9.-]+\", ' ', longitude))\n",
    "\n",
    "for site in siteList:\n",
    "    cleanSiteList.append(site.replace(\",\", \" /\"))"
   ]
  },
  {
   "cell_type": "markdown",
   "metadata": {},
   "source": [
    "The print statements below verify our converted coordinates are in the master list"
   ]
  },
  {
   "cell_type": "code",
   "execution_count": null,
   "metadata": {},
   "outputs": [],
   "source": [
    "print(cleanLongList[176])\n",
    "print(cleanLongList[379])\n",
    "\n",
    "print(cleanLatList[176])\n",
    "print(cleanLatList[379])\n",
    "\n",
    "print(cleanSiteList[176])\n",
    "print(cleanSiteList[379])\n",
    "print(cleanSiteList[334])"
   ]
  },
  {
   "cell_type": "markdown",
   "metadata": {},
   "source": [
    "### Okey-dokey, I was hoping we could just look at the data point with "
   ]
  },
  {
   "cell_type": "code",
   "execution_count": null,
   "metadata": {},
   "outputs": [],
   "source": [
    "for point in cleanLongList:\n",
    "    if \" \" in point.strip():\n",
    "        print(point)"
   ]
  },
  {
   "cell_type": "markdown",
   "metadata": {},
   "source": [
    "### Code Segment Three"
   ]
  },
  {
   "cell_type": "markdown",
   "metadata": {},
   "source": [
    "Alright, here we are going to make a brand new csv file with all our data points ready to be uploaded into a map :)"
   ]
  },
  {
   "cell_type": "code",
   "execution_count": null,
   "metadata": {},
   "outputs": [],
   "source": [
    "import csv\n",
    "\n",
    "counter = 0\n",
    "with open('EarlyModernPostClean.csv', 'w', newline='') as csvfile:\n",
    "    filewriter = csv.writer(csvfile, delimiter=',',quotechar='|', quoting=csv.QUOTE_MINIMAL)\n",
    "    filewriter.writerow(['Site', 'Latitude', 'Longitude'])\n",
    "    for site in cleanSiteList:\n",
    "        filewriter.writerow([cleanSiteList[counter], cleanLatList[counter], cleanLongList[counter]])\n",
    "        counter += 1\n",
    "        "
   ]
  },
  {
   "cell_type": "code",
   "execution_count": null,
   "metadata": {},
   "outputs": [],
   "source": [
    "df2 = pd.read_csv('EarlyModernPostClean.csv')\n",
    "\n",
    "df2.head()"
   ]
  },
  {
   "cell_type": "code",
   "execution_count": null,
   "metadata": {},
   "outputs": [],
   "source": []
  }
 ],
 "metadata": {
  "kernelspec": {
   "display_name": "Python 3",
   "language": "python",
   "name": "python3"
  },
  "language_info": {
   "codemirror_mode": {
    "name": "ipython",
    "version": 3
   },
   "file_extension": ".py",
   "mimetype": "text/x-python",
   "name": "python",
   "nbconvert_exporter": "python",
   "pygments_lexer": "ipython3",
   "version": "3.7.3"
  }
 },
 "nbformat": 4,
 "nbformat_minor": 2
}
