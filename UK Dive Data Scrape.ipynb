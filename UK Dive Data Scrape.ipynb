{
 "cells": [
  {
   "cell_type": "markdown",
   "metadata": {},
   "source": [
    "# UK Dive Data"
   ]
  },
  {
   "cell_type": "markdown",
   "metadata": {},
   "source": [
    "Run in Terminal"
   ]
  },
  {
   "cell_type": "code",
   "execution_count": 74,
   "metadata": {
    "collapsed": false
   },
   "outputs": [],
   "source": [
    "#Run: \n",
    "#     easy_install pip \n",
    "#     pip install BeautifulSoup4"
   ]
  },
  {
   "cell_type": "code",
   "execution_count": 2,
   "metadata": {
    "collapsed": false
   },
   "outputs": [],
   "source": [
    "# import required libraries\n",
    "\n",
    "import requests\n",
    "import string\n",
    "from bs4 import BeautifulSoup\n",
    "import pandas as pd"
   ]
  },
  {
   "cell_type": "markdown",
   "metadata": {},
   "source": [
    "Scrape and store shipwreck names and locations"
   ]
  },
  {
   "cell_type": "code",
   "execution_count": 3,
   "metadata": {
    "collapsed": true
   },
   "outputs": [],
   "source": [
    "# get alphabet as a list\n",
    "alphabet = string.ascii_uppercase[:26]\n",
    "\n",
    "# for each letter in the alphabet, get all wreck names and coordinates\n",
    "wreck_locations = []\n",
    "location_conversion = []\n",
    "base_url = 'http://www.ukdiving.co.uk/wrecks/'\n",
    "for letter in alphabet:\n",
    "    pageA = requests.get('http://www.ukdiving.co.uk/wrecks/wreck_list.php?letter=' + letter)\n",
    "    soup = BeautifulSoup(pageA.text, 'html.parser')\n",
    "    wreck_elements = soup.findAll(\"a\", {\"class\": \"forum\"})\n",
    "    \n",
    "    for element in wreck_elements:\n",
    "        string_element = str(element)\n",
    "        link = string_element.split('href=\"')[1].split('\">')[0]\n",
    "        wreck_name = element.text\n",
    "        wreck_url = base_url + link\n",
    "\n",
    "        # coordinates\n",
    "        page = requests.get(wreck_url)\n",
    "        soup = BeautifulSoup(page.text, 'html.parser')    \n",
    "        wreck_location = soup.findAll(\"td\", {\"class\": \"diving\"})\n",
    "        location = str(wreck_location[5]).split('</strong>')[1].split('</td>')[0]\n",
    "\n",
    "        # if wreck doesn't have a location, print unknown or don't include?\n",
    "        if location != \"0 ° 0 ' 0 '' - - 0 ° 0' 0'' -\":\n",
    "            wreck_locations.append([wreck_name]) \n",
    "            location_conversion.append(location)"
   ]
  },
  {
   "cell_type": "markdown",
   "metadata": {},
   "source": [
    "Convert coordinate data to decimal format"
   ]
  },
  {
   "cell_type": "code",
   "execution_count": 16,
   "metadata": {
    "collapsed": false
   },
   "outputs": [
    {
     "data": {
      "text/html": [
       "<div>\n",
       "<table border=\"1\" class=\"dataframe\">\n",
       "  <thead>\n",
       "    <tr style=\"text-align: right;\">\n",
       "      <th></th>\n",
       "      <th>latitude</th>\n",
       "      <th>longitude</th>\n",
       "      <th>wreck_name</th>\n",
       "    </tr>\n",
       "  </thead>\n",
       "  <tbody>\n",
       "    <tr>\n",
       "      <th>0</th>\n",
       "      <td>51.688333</td>\n",
       "      <td>-5.177778</td>\n",
       "      <td>Adamantios J Pithis (The Greek)</td>\n",
       "    </tr>\n",
       "    <tr>\n",
       "      <th>1</th>\n",
       "      <td>51.200000</td>\n",
       "      <td>1.508333</td>\n",
       "      <td>Admiral Gardner</td>\n",
       "    </tr>\n",
       "    <tr>\n",
       "      <th>2</th>\n",
       "      <td>50.500000</td>\n",
       "      <td>-2.133333</td>\n",
       "      <td>Aeolean Sky</td>\n",
       "    </tr>\n",
       "    <tr>\n",
       "      <th>3</th>\n",
       "      <td>50.273611</td>\n",
       "      <td>-3.913611</td>\n",
       "      <td>Aircraft Graveyard</td>\n",
       "    </tr>\n",
       "    <tr>\n",
       "      <th>4</th>\n",
       "      <td>55.945833</td>\n",
       "      <td>-4.901944</td>\n",
       "      <td>Akka</td>\n",
       "    </tr>\n",
       "  </tbody>\n",
       "</table>\n",
       "</div>"
      ],
      "text/plain": [
       "    latitude  longitude                       wreck_name\n",
       "0  51.688333  -5.177778  Adamantios J Pithis (The Greek)\n",
       "1  51.200000   1.508333                  Admiral Gardner\n",
       "2  50.500000  -2.133333                      Aeolean Sky\n",
       "3  50.273611  -3.913611               Aircraft Graveyard\n",
       "4  55.945833  -4.901944                             Akka"
      ]
     },
     "execution_count": 16,
     "metadata": {},
     "output_type": "execute_result"
    }
   ],
   "source": [
    "actual_conversion = []\n",
    "\n",
    "for coordinates in location_conversion:\n",
    "    string_coordinate = str(coordinates)\n",
    "    if '- -' in string_coordinate:\n",
    "        latitude = string_coordinate.split('- -')[0]\n",
    "        longitude = string_coordinate.split('- -')[1]\n",
    "    else:\n",
    "        latitude = string_coordinate.split('North - ')[0]\n",
    "        longitude = string_coordinate.split('- ')[1]\n",
    "\n",
    "    degrees = int(latitude.split('°')[0])\n",
    "    minutes = int(latitude.split('°')[1].split(\"'\")[0])\n",
    "    seconds = int(latitude.split('°')[1].split(\"'\")[1].split(\"' '\")[0])\n",
    "    \n",
    "    decimal_lat = float(degrees + (minutes / 60) + (seconds / 3600))\n",
    "    \n",
    "    if 'West' in longitude:\n",
    "        degrees = int(longitude.split('°')[0])\n",
    "        minutes = int(longitude.split('°')[1].split(\"'\")[0])\n",
    "        seconds = int(longitude.split('°')[1].split(\"'\")[1].split(\"' '\")[0])\n",
    "        decimal_long = float(-1 * (degrees + (minutes / 60) + (seconds / 3600)))\n",
    "    elif 'East' in longitude:\n",
    "        degrees = int(longitude.split('°')[0])\n",
    "        minutes = int(longitude.split('°')[1].split(\"'\")[0])\n",
    "        seconds = int(longitude.split('°')[1].split(\"'\")[1].split(\"' '\")[0])\n",
    "        decimal_long = float((degrees + (minutes / 60) + (seconds / 3600)))\n",
    "    else:\n",
    "        degrees = int(longitude.split('°')[0])\n",
    "        minutes = int(longitude.split('°')[1].split(\"'\")[0])\n",
    "        seconds = int(longitude.split('°')[1].split(\"'\")[1].split(\"' '\")[0])\n",
    "        decimal_long = float(-1 * (degrees + (minutes / 60) + (seconds / 3600)))\n",
    "    \n",
    "    actual_conversion.append([decimal_lat, decimal_long])\n",
    "    coordinates_df = pd.DataFrame(actual_conversion, columns = ['latitude', 'longitude'])\n",
    "\n",
    "coordinates_df['wreck_name'] = [location[0] for location in wreck_locations]\n",
    "coordinates_df.head()"
   ]
  },
  {
   "cell_type": "markdown",
   "metadata": {},
   "source": [
    "Export dataframe to csv (an excel doc)"
   ]
  },
  {
   "cell_type": "code",
   "execution_count": 33,
   "metadata": {
    "collapsed": true
   },
   "outputs": [],
   "source": [
    "coordinates_df.to_csv('uk-wreck-dcm.csv', sep=',', encoding='utf-8', index=False)"
   ]
  }
 ],
 "metadata": {
  "kernelspec": {
   "display_name": "Python 3",
   "language": "python",
   "name": "python3"
  },
  "language_info": {
   "codemirror_mode": {
    "name": "ipython",
    "version": 3
   },
   "file_extension": ".py",
   "mimetype": "text/x-python",
   "name": "python",
   "nbconvert_exporter": "python",
   "pygments_lexer": "ipython3",
   "version": "3.6.0"
  }
 },
 "nbformat": 4,
 "nbformat_minor": 2
}
